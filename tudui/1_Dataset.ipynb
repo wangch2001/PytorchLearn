{
 "cells": [
  {
   "metadata": {},
   "cell_type": "markdown",
   "source": [
    "# 如何加载数据集\n",
    "# 本文档展示了如何使用Pytorch的Dataset和DataLoader加载自定义数据集。\n"
   ],
   "id": "793a1205f080de29"
  },
  {
   "metadata": {
    "ExecuteTime": {
     "end_time": "2025-04-20T09:49:39.617254Z",
     "start_time": "2025-04-20T09:49:38.913463Z"
    }
   },
   "cell_type": "code",
   "source": [
    "# 导入Pytorch相关数据集处理和数据加载工具\n",
    "from torch.utils.data import Dataset, DataLoader  # Dataset用于自定义数据集，DataLoader用于批量加载数据\n",
    "import numpy as np  # 用于数值计算\n",
    "from PIL import Image  # 用于加载和处理图片\n",
    "import os  # 用于文件路径操作\n",
    "from torchvision import transforms  # 用于数据增强和预处理\n",
    "from torch.utils.tensorboard import SummaryWriter  # 用于可视化\n",
    "from torchvision.utils import make_grid  # 用于将多张图片拼接成网格\n"
   ],
   "id": "7c390f8759242c84",
   "outputs": [],
   "execution_count": 1
  },
  {
   "metadata": {
    "ExecuteTime": {
     "end_time": "2025-04-20T09:49:42.009697Z",
     "start_time": "2025-04-20T09:49:42.004121Z"
    }
   },
   "cell_type": "code",
   "source": [
    "class MyData(Dataset):\n",
    "    # 自定义数据集类，继承自Pytorch的Dataset类\n",
    "    def __init__(self, root_dir, label_dir):\n",
    "        \"\"\"\n",
    "        初始化函数，传入数据集的根目录和标签目录。\n",
    "        :param root_dir: 数据集根目录\n",
    "        :param label_dir: 标签目录（子文件夹名）\n",
    "        \"\"\"\n",
    "        self.root_dir = root_dir  # 保存根目录路径\n",
    "        self.label_dir = label_dir  # 保存标签目录路径\n",
    "        self.path = os.path.join(self.root_dir, self.label_dir)  # 拼接成完整路径\n",
    "        self.img_path = os.listdir(self.path)  # 获取标签目录下所有图片的文件名列表\n",
    "\n",
    "    def __getitem__(self, idx):\n",
    "        \"\"\"\n",
    "        根据索引获取图片及其对应的标签。\n",
    "        :param idx: 图片索引\n",
    "        :return: 图片和标签\n",
    "        \"\"\"\n",
    "        img_name = self.img_path[idx]  # 根据索引获取图片文件名\n",
    "        img_item_path = os.path.join(self.root_dir, self.label_dir, img_name)  # 拼接成图片完整路径\n",
    "        img = Image.open(img_item_path)  # 打开图片\n",
    "        label = self.label_dir  # 标签即为子文件夹名\n",
    "        return img, label  # 返回图片和标签\n",
    "\n",
    "    def __len__(self):\n",
    "        \"\"\"\n",
    "        返回数据集的大小（图片数量）。\n",
    "        :return: 图片数量\n",
    "        \"\"\"\n",
    "        return len(self.img_path)  # 返回图片文件名列表的长度\n"
   ],
   "id": "ff51a92a7db9f323",
   "outputs": [],
   "execution_count": 2
  },
  {
   "metadata": {
    "ExecuteTime": {
     "end_time": "2025-04-20T09:50:19.479522Z",
     "start_time": "2025-04-20T09:50:19.299323Z"
    }
   },
   "cell_type": "code",
   "source": [
    "# 定义数据集的根目录和子目录\n",
    "root_dir = \"./data/hymenoptera_data/train\"  # 数据集根目录\n",
    "ants_label_dir = \"ants\"  # 蚂蚁图片所在子目录\n",
    "\n",
    "# 创建蚂蚁数据集实例\n",
    "ants_dataset = MyData(root_dir, ants_label_dir)\n",
    "\n",
    "# 测试蚂蚁数据集，获取第一张图片及其标签\n",
    "img, label = ants_dataset[1]  # 获取索引为1的图片和标签\n",
    "img.show()  # 显示图片\n",
    "print(label)  # 打印标签\n"
   ],
   "id": "82a5f5094c0ca8cb",
   "outputs": [
    {
     "name": "stdout",
     "output_type": "stream",
     "text": [
      "ants\n"
     ]
    }
   ],
   "execution_count": 5
  },
  {
   "metadata": {
    "ExecuteTime": {
     "end_time": "2025-04-20T09:50:34.623924Z",
     "start_time": "2025-04-20T09:50:34.486660Z"
    }
   },
   "cell_type": "code",
   "source": [
    "# 定义蜜蜂图片所在子目录\n",
    "bees_label_dir = \"bees\"\n",
    "\n",
    "# 创建蜜蜂数据集实例\n",
    "bees_dataset = MyData(root_dir, bees_label_dir)\n",
    "\n",
    "# 测试蜜蜂数据集，获取第一张图片及其标签\n",
    "img, label = bees_dataset[1]  # 获取索引为1的图片和标签\n",
    "img.show()  # 显示图片\n",
    "print(label)  # 打印标签\n"
   ],
   "id": "6f3bf950090cc9e4",
   "outputs": [
    {
     "name": "stdout",
     "output_type": "stream",
     "text": [
      "bees\n"
     ]
    }
   ],
   "execution_count": 6
  },
  {
   "metadata": {
    "ExecuteTime": {
     "end_time": "2025-04-20T09:50:59.552447Z",
     "start_time": "2025-04-20T09:50:59.076181Z"
    }
   },
   "cell_type": "code",
   "source": [
    "# 合并蚂蚁和蜜蜂数据集\n",
    "train_dataset = ants_dataset + bees_dataset  # 合并两个数据集\n",
    "\n",
    "# 打印各数据集的大小\n",
    "print(len(ants_dataset))  # 打印蚂蚁数据集大小\n",
    "print(len(bees_dataset))  # 打印蜜蜂数据集大小\n",
    "print(len(train_dataset))  # 打印合并后的数据集大小\n",
    "\n",
    "# 测试合并后的数据集，显示几张图片\n",
    "img1, _ = train_dataset[0]  # 获取索引为0的图片\n",
    "img2, _ = train_dataset[123]  # 获取索引为123的图片\n",
    "img3, _ = train_dataset[124]  # 获取索引为124的图片\n",
    "img4, _ = train_dataset[244]  # 获取索引为244的图片\n",
    "img1.show()  # 显示图片1\n",
    "img2.show()  # 显示图片2\n",
    "img3.show()  # 显示图片3\n",
    "img4.show()  # 显示图片4\n"
   ],
   "id": "9d5858c238d4a431",
   "outputs": [
    {
     "name": "stdout",
     "output_type": "stream",
     "text": [
      "124\n",
      "121\n",
      "245\n"
     ]
    }
   ],
   "execution_count": 7
  }
 ],
 "metadata": {
  "kernelspec": {
   "display_name": "Python 3",
   "language": "python",
   "name": "python3"
  },
  "language_info": {
   "codemirror_mode": {
    "name": "ipython",
    "version": 2
   },
   "file_extension": ".py",
   "mimetype": "text/x-python",
   "name": "python",
   "nbconvert_exporter": "python",
   "pygments_lexer": "ipython2",
   "version": "2.7.6"
  }
 },
 "nbformat": 4,
 "nbformat_minor": 5
}
