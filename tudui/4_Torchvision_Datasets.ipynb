{
 "cells": [
  {
   "metadata": {},
   "cell_type": "markdown",
   "source": [
    "# 如何加载官方数据集\n",
    "以CIFAR10为例\n",
    "\n",
    "CIFAR10是一个常用的小型图像数据集，包含10个类别的彩色图像。\n"
   ],
   "id": "e23a6ff1088f77f2"
  },
  {
   "cell_type": "code",
   "id": "initial_id",
   "metadata": {
    "collapsed": true,
    "ExecuteTime": {
     "end_time": "2025-04-21T13:57:55.674900Z",
     "start_time": "2025-04-21T13:57:55.672082Z"
    }
   },
   "source": [
    "# CIFAR10 Dataset.\n",
    "# Parameters:\n",
    "#     root (str or pathlib.Path)                数据集路径，指定数据集存储的目录。\n",
    "#     train (bool, optional)                    True: 加载训练集；False: 加载测试集。\n",
    "#     transform (callable, optional)            对数据集的图像进行变换处理，例如归一化、数据增强等。\n",
    "#     target_transform (callable, optional)     对标签(target)进行变换处理。\n",
    "#     download (bool, optional)                 True: 如果数据集不存在则自动下载；False: 不会下载。\n"
   ],
   "outputs": [],
   "execution_count": 1
  },
  {
   "metadata": {
    "ExecuteTime": {
     "end_time": "2025-04-21T13:57:58.661778Z",
     "start_time": "2025-04-21T13:57:57.813260Z"
    }
   },
   "cell_type": "code",
   "source": [
    "import torchvision\n",
    "from tensorboard.notebook import display\n",
    "from torch.utils.tensorboard import SummaryWriter\n"
   ],
   "id": "c07484bce947606c",
   "outputs": [],
   "execution_count": 2
  },
  {
   "metadata": {
    "ExecuteTime": {
     "end_time": "2025-04-21T14:04:24.445602Z",
     "start_time": "2025-04-21T14:04:22.895141Z"
    }
   },
   "cell_type": "code",
   "source": [
    "# 加载CIFAR10训练集和测试集，未进行任何变换。\n",
    "train_set = torchvision.datasets.CIFAR10(\"./data/CIFAR10\", train=True, download=True)  # 下载并加载训练集\n",
    "test_set = torchvision.datasets.CIFAR10(\"./data/CIFAR10\", train=False, download=True)  # 下载并加载测试集\n"
   ],
   "id": "1b34016d322b11f7",
   "outputs": [
    {
     "name": "stdout",
     "output_type": "stream",
     "text": [
      "Files already downloaded and verified\n",
      "Files already downloaded and verified\n"
     ]
    }
   ],
   "execution_count": 5
  },
  {
   "metadata": {
    "ExecuteTime": {
     "end_time": "2025-04-21T14:05:57.016720Z",
     "start_time": "2025-04-21T14:05:56.916706Z"
    }
   },
   "cell_type": "code",
   "source": [
    "# 打印训练集的第一个样本，包含图像和对应的标签。\n",
    "print(train_set[0])  \n",
    "# 最后的数字是每张图片的target（标签）。\n",
    "# CIFAR10的类别映射关系如下：\n",
    "# classes{'airplane': 0, 'automobile': 1, 'bird': 2, 'cat': 3, 'deer': 4, 'dog': 5, 'frog': 6, 'horse': 7, 'ship': 8, 'truck': 9}\n",
    "\n",
    "# 打印数据集的类别名称。\n",
    "print(train_set.classes)\n",
    "\n",
    "# 获取训练集的第一个样本的图像和标签。\n",
    "img, target = train_set[0]\n",
    "# 打印该样本的类别名称。\n",
    "print(train_set.classes[target])\n",
    "# 打印图像对象和对应的标签值。\n",
    "print(img)\n",
    "print(target)\n",
    "# 显示图像\n",
    "img.show()  # 显示图像对象，调用show方法会弹出一个窗口显示图像。"
   ],
   "id": "4893336088c53e0f",
   "outputs": [
    {
     "name": "stdout",
     "output_type": "stream",
     "text": [
      "(<PIL.Image.Image image mode=RGB size=32x32 at 0x127773340>, 6)\n",
      "['airplane', 'automobile', 'bird', 'cat', 'deer', 'dog', 'frog', 'horse', 'ship', 'truck']\n",
      "frog\n",
      "<PIL.Image.Image image mode=RGB size=32x32 at 0x127773250>\n",
      "6\n"
     ]
    }
   ],
   "execution_count": 8
  },
  {
   "metadata": {
    "ExecuteTime": {
     "end_time": "2025-04-21T14:14:50.382767Z",
     "start_time": "2025-04-21T14:14:48.792100Z"
    }
   },
   "cell_type": "code",
   "source": [
    "# 如何将Datasets中的数据转换为Tensor类型\n",
    "# 使用torchvision.transforms对数据进行变换处理。\n",
    "\n",
    "# 定义数据变换，包括将图像转换为Tensor和归一化。\n",
    "Dataset_transform = torchvision.transforms.Compose([\n",
    "    torchvision.transforms.ToTensor(),  # 将PIL图像或numpy数组转换为Tensor。\n",
    "    torchvision.transforms.Normalize([0.1, 0.2, 0.5], [0.9, 1.3, 0.7])  # 对图像进行归一化处理。\n",
    "])\n",
    "\n",
    "# 使用定义的变换重新加载训练集和测试集。\n",
    "train_set = torchvision.datasets.CIFAR10(\"./data/CIFAR10\", train=True, transform=Dataset_transform, download=True)\n",
    "test_set = torchvision.datasets.CIFAR10(\"./data/CIFAR10\", train=False, transform=Dataset_transform, download=True)\n",
    "\n",
    "# 打印训练集的第一个样本，经过变换处理。\n",
    "print(train_set[0])\n",
    "\n",
    "# 使用SummaryWriter将数据写入TensorBoard日志。\n",
    "writer = SummaryWriter(\"./logs/4_Torchvision_Datasets\")\n",
    "# 遍历训练集的前100张图像，将其写入日志文件。\n",
    "for i in range(100):\n",
    "    img, target = train_set[i]  # 获取图像和标签。\n",
    "    writer.add_image(\"train_set\", img, i)  # 将图像添加到TensorBoard。\n"
   ],
   "id": "d548910bcbf4207a",
   "outputs": [
    {
     "name": "stdout",
     "output_type": "stream",
     "text": [
      "Files already downloaded and verified\n",
      "Files already downloaded and verified\n",
      "(tensor([[[ 0.1460,  0.0763,  0.1068,  ...,  0.5773,  0.5512,  0.5338],\n",
      "         [-0.0414, -0.1111, -0.0327,  ...,  0.4248,  0.4074,  0.4205],\n",
      "         [-0.0022, -0.0414,  0.1024,  ...,  0.4031,  0.4118,  0.3638],\n",
      "         ...,\n",
      "         [ 0.7952,  0.7647,  0.7516,  ...,  0.5861,  0.1329,  0.1198],\n",
      "         [ 0.6732,  0.6427,  0.6993,  ...,  0.6906,  0.3115,  0.2505],\n",
      "         [ 0.6601,  0.6209,  0.6688,  ...,  0.8301,  0.5468,  0.4248]],\n",
      "\n",
      "        [[ 0.0332, -0.0151, -0.0090,  ...,  0.2443,  0.2232,  0.2202],\n",
      "         [-0.0935, -0.1538, -0.1297,  ...,  0.1116,  0.0965,  0.1086],\n",
      "         [-0.0814, -0.1327, -0.0724,  ...,  0.0995,  0.0995,  0.0664],\n",
      "         ...,\n",
      "         [ 0.3590,  0.3077,  0.3318,  ...,  0.2474, -0.0603, -0.0513],\n",
      "         [ 0.2655,  0.2172,  0.2805,  ...,  0.2926,  0.0332,  0.0060],\n",
      "         [ 0.2805,  0.2353,  0.2745,  ...,  0.4012,  0.2021,  0.1237]],\n",
      "\n",
      "        [[-0.3613, -0.4622, -0.4734,  ..., -0.1092, -0.1429, -0.1373],\n",
      "         [-0.6022, -0.7143, -0.7143,  ..., -0.4062, -0.4342, -0.3950],\n",
      "         [-0.5966, -0.7143, -0.6695,  ..., -0.4342, -0.4342, -0.4790],\n",
      "         ...,\n",
      "         [-0.1765, -0.5238, -0.5686,  ..., -0.3221, -0.6751, -0.6022],\n",
      "         [-0.1765, -0.4790, -0.5462,  ..., -0.1877, -0.5238, -0.5238],\n",
      "         [-0.0644, -0.1877, -0.2269,  ...,  0.0700, -0.2437, -0.3109]]]), 6)\n"
     ]
    }
   ],
   "execution_count": 10
  },
  {
   "metadata": {
    "ExecuteTime": {
     "end_time": "2025-04-21T14:16:00.468646Z",
     "start_time": "2025-04-21T14:16:00.466283Z"
    }
   },
   "cell_type": "code",
   "source": [
    "# 关闭SummaryWriter。\n",
    "#writer.close()"
   ],
   "id": "4c1dc14a521419f",
   "outputs": [],
   "execution_count": 11
  },
  {
   "metadata": {},
   "cell_type": "code",
   "outputs": [],
   "execution_count": null,
   "source": "",
   "id": "fe1375e4c7759c8c"
  }
 ],
 "metadata": {
  "kernelspec": {
   "display_name": "Python 3",
   "language": "python",
   "name": "python3"
  },
  "language_info": {
   "codemirror_mode": {
    "name": "ipython",
    "version": 2
   },
   "file_extension": ".py",
   "mimetype": "text/x-python",
   "name": "python",
   "nbconvert_exporter": "python",
   "pygments_lexer": "ipython2",
   "version": "2.7.6"
  }
 },
 "nbformat": 4,
 "nbformat_minor": 5
}
