{
 "cells": [
  {
   "metadata": {},
   "cell_type": "markdown",
   "source": "# 线性层",
   "id": "16b62d5a36af3922"
  },
  {
   "cell_type": "code",
   "execution_count": null,
   "id": "initial_id",
   "metadata": {
    "collapsed": true
   },
   "outputs": [],
   "source": [
    "# 正则化层\n",
    "# nn.BatchNorm2d\n",
    "    # num_features,                      输入的通道数（必填）\n",
    "    # eps=1e-5,                          计算均值和方差过程中防止除 0 的小常数，一般不改\n",
    "    # momentum=0.1,                      动量，用于更新运行时统计量（训练中用）\n",
    "    # affine=True,                       是否包含可学习参数 v和 β（默认True）\n",
    "    # track_running_stats=True           是否追踪均值与方差的滑动平均（用于推理）"
   ]
  },
  {
   "metadata": {},
   "cell_type": "code",
   "outputs": [],
   "execution_count": null,
   "source": [
    "# 线性层\n",
    "# torch.nn.Linear\n",
    "    # in_features (int) – size of each input sample\n",
    "    # out_features (int) – size of each output sample\n",
    "    # bias (bool) – If set to False, the layer will not learn an additive bias. Default: True"
   ],
   "id": "ef74ecc8fd1a2018"
  },
  {
   "metadata": {},
   "cell_type": "code",
   "outputs": [],
   "execution_count": null,
   "source": [
    "# torch.flatten()\n",
    "    # input (Tensor) – the input tensor.\n",
    "    # start_dim (int) – the first dim to flatten\n",
    "    # end_dim (int) – the last dim to flatten"
   ],
   "id": "38c60836cdb95d10"
  },
  {
   "metadata": {
    "ExecuteTime": {
     "end_time": "2025-04-22T07:38:08.460837Z",
     "start_time": "2025-04-22T07:38:07.827693Z"
    }
   },
   "cell_type": "code",
   "source": [
    "import torch\n",
    "import torchvision"
   ],
   "id": "d76d64fa90654ed7",
   "outputs": [],
   "execution_count": 1
  },
  {
   "metadata": {
    "ExecuteTime": {
     "end_time": "2025-04-22T07:38:09.027494Z",
     "start_time": "2025-04-22T07:38:09.023071Z"
    }
   },
   "cell_type": "code",
   "source": [
    "# 定义一个自定义的神经网络模块\n",
    "class Tudui(torch.nn.Module):\n",
    "    def __init__(self):\n",
    "        super(Tudui, self).__init__()\n",
    "        # 定义一个线性层，输入特征数为196608，输出特征数为10\n",
    "        self.linear1 = torch.nn.Linear(196608, 10)\n",
    "\n",
    "    def forward(self, input):\n",
    "        # 前向传播函数，计算线性层的输出\n",
    "        output = self.linear1(input)\n",
    "        return output"
   ],
   "id": "fdcfd46313b3de6f",
   "outputs": [],
   "execution_count": 2
  },
  {
   "metadata": {
    "ExecuteTime": {
     "end_time": "2025-04-22T07:38:32.390376Z",
     "start_time": "2025-04-22T07:38:31.825682Z"
    }
   },
   "cell_type": "code",
   "source": [
    "# 加载CIFAR10数据集，设置为测试集，自动下载数据并将其转换为Tensor格式\n",
    "dataset = torchvision.datasets.CIFAR10(\"./data/CIFAR10\", train = False,\n",
    "                                       transform = torchvision.transforms.ToTensor(), download = True)\n",
    "# 使用DataLoader加载数据集，设置批量大小为64\n",
    "dataloader = torch.utils.data.DataLoader(dataset, batch_size = 64)\n",
    "\n",
    "# 实例化自定义的神经网络\n",
    "tudui = Tudui()\n",
    "\n",
    "# 遍历数据加载器中的数据\n",
    "i = 0\n",
    "for data in dataloader:\n",
    "    if i >= 1:  # 只处理前1个批次的数据\n",
    "        break\n",
    "\n",
    "    imgs, targets = data  # imgs为图像数据，targets为对应的标签\n",
    "    print(imgs.shape)  # 打印图像数据的形状\n",
    "    # 使用torch.reshape将图像数据重新调整为形状[1, 1, 1, -1]\n",
    "    output = torch.reshape(imgs, [1, 1, 1, -1])\n",
    "    print(\"reshape:\")\n",
    "    print(output.shape)  # 打印调整后的形状\n",
    "    # 使用torch.flatten将图像数据展平为一维\n",
    "    output = torch.flatten(imgs)         # 可以看一下输出，与reshape并不相同\n",
    "    print(\"flatten:\")\n",
    "    print(output.shape)  # 打印展平后的形状\n",
    "    # 将展平后的数据输入到自定义的神经网络中\n",
    "    output = tudui(output)\n",
    "    print(output.shape)  # 打印神经网络的输出形状\n",
    "\n",
    "    i += 1  # 批次计数器加1\n"
   ],
   "id": "e53748920f83b164",
   "outputs": [
    {
     "name": "stdout",
     "output_type": "stream",
     "text": [
      "Files already downloaded and verified\n",
      "torch.Size([64, 3, 32, 32])\n",
      "reshape:\n",
      "torch.Size([1, 1, 1, 196608])\n",
      "flatten:\n",
      "torch.Size([196608])\n",
      "torch.Size([10])\n"
     ]
    }
   ],
   "execution_count": 4
  },
  {
   "metadata": {},
   "cell_type": "code",
   "outputs": [],
   "execution_count": null,
   "source": "",
   "id": "4574fddba3cbf838"
  }
 ],
 "metadata": {
  "kernelspec": {
   "display_name": "Python 3",
   "language": "python",
   "name": "python3"
  },
  "language_info": {
   "codemirror_mode": {
    "name": "ipython",
    "version": 2
   },
   "file_extension": ".py",
   "mimetype": "text/x-python",
   "name": "python",
   "nbconvert_exporter": "python",
   "pygments_lexer": "ipython2",
   "version": "2.7.6"
  }
 },
 "nbformat": 4,
 "nbformat_minor": 5
}
