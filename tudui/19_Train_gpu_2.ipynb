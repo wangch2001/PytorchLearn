{
 "cells": [
  {
   "metadata": {},
   "cell_type": "markdown",
   "source": "# 使用GPU进行模型训练",
   "id": "3fb95a93bbe9f086"
  },
  {
   "cell_type": "code",
   "id": "d5b4eb57-fc50-4a47-9bd9-cc74a81f86f9",
   "metadata": {
    "ExecuteTime": {
     "end_time": "2025-04-24T04:42:18.111989Z",
     "start_time": "2025-04-24T04:42:18.109731Z"
    }
   },
   "source": [
    "# 使用gpu训练的第一种方式\n",
    "# 调用：\n",
    "#     网络模型\n",
    "#     数据\n",
    "#     损失函数\n",
    "# 的.to(device)\n",
    "# device可以设置\n",
    "# 例如：\n",
    "    # device = torch.device(\"cpu\")\n",
    "    # device0 = torch.device(\"cuda\")  ==  device0 = torch.device(\"cuda:0\")       两者等价\n",
    "    # device1 = torch.device(\"cuda:1\")\n",
    "    # ...多卡设备以此类推"
   ],
   "outputs": [],
   "execution_count": 1
  },
  {
   "cell_type": "code",
   "id": "ca86339f-937b-4661-b4c1-8011c046e289",
   "metadata": {
    "ExecuteTime": {
     "end_time": "2025-04-24T04:42:18.739929Z",
     "start_time": "2025-04-24T04:42:18.180065Z"
    }
   },
   "source": [
    "import torch\n",
    "import torchvision\n",
    "from torch import nn\n",
    "from torch.utils.tensorboard import SummaryWriter\n",
    "from collections import OrderedDict"
   ],
   "outputs": [],
   "execution_count": 2
  },
  {
   "cell_type": "code",
   "id": "18815ae4-b194-4c08-851b-3ceaf110af88",
   "metadata": {
    "ExecuteTime": {
     "end_time": "2025-04-24T04:42:18.747861Z",
     "start_time": "2025-04-24T04:42:18.745942Z"
    }
   },
   "source": [
    "# 定义训练的设备\n",
    "device = torch.device(\"cpu\")"
   ],
   "outputs": [],
   "execution_count": 3
  },
  {
   "cell_type": "code",
   "id": "9afdeb62-2cf3-4d3c-8efa-64319a4d85fb",
   "metadata": {
    "ExecuteTime": {
     "end_time": "2025-04-24T04:42:18.758767Z",
     "start_time": "2025-04-24T04:42:18.756262Z"
    }
   },
   "source": [
    "class LeNet_5(nn.Module):\n",
    "    def __init__(self):\n",
    "        super(LeNet_5, self).__init__()\n",
    "        self.model1 = nn.Sequential(OrderedDict([\n",
    "            ('conv1', nn.Conv2d(in_channels=3, out_channels=32, kernel_size=5, padding=2)),\n",
    "            ('pool1', nn.MaxPool2d(kernel_size=2)),\n",
    "            ('conv2', nn.Conv2d(in_channels=32, out_channels=32, kernel_size=5, padding=2)),\n",
    "            ('pool2', nn.MaxPool2d(kernel_size=2)),\n",
    "            ('conv3', nn.Conv2d(in_channels=32, out_channels=64, kernel_size=5, padding=2)),\n",
    "            ('pool3', nn.MaxPool2d(kernel_size=2)),\n",
    "            ('flatten', nn.Flatten()),\n",
    "            ('fc1', nn.Linear(1024, 64)),  # 注意：1024 = 64通道 × 4 × 4（针对输入32x32）\n",
    "            ('fc2', nn.Linear(64, 10))\n",
    "        ]))\n",
    "\n",
    "    def forward(self, x):\n",
    "        return self.model1(x)"
   ],
   "outputs": [],
   "execution_count": 4
  },
  {
   "cell_type": "code",
   "id": "3edd555d-b12b-4fca-962a-62d0993f0d6b",
   "metadata": {
    "ExecuteTime": {
     "end_time": "2025-04-24T04:42:19.973422Z",
     "start_time": "2025-04-24T04:42:18.763818Z"
    }
   },
   "source": [
    "# 准备数据集\n",
    "train_data = torchvision.datasets.CIFAR10(\"./data/CIFAR10/\", train = True,\n",
    "                                          transform = torchvision.transforms.ToTensor(), download = True)\n",
    "val_data = torchvision.datasets.CIFAR10(\"./data/CIFAR10/\", train = False,\n",
    "                                          transform = torchvision.transforms.ToTensor(), download = True)\n",
    "\n",
    "# 如何查看数据集大小\n",
    "train_data_size = len(train_data)\n",
    "val_data_size = len(val_data)\n",
    "print(\"训练数据集长度为：{}\".format(train_data_size))\n",
    "print(\"测试数据集长度为：{}\".format(val_data_size))\n",
    "\n",
    "# 加载数据集\n",
    "train_dataloader = torch.utils.data.DataLoader(train_data, batch_size = 64)\n",
    "val_dataloader = torch.utils.data.DataLoader(val_data, batch_size = 64)"
   ],
   "outputs": [
    {
     "name": "stdout",
     "output_type": "stream",
     "text": [
      "Files already downloaded and verified\n",
      "Files already downloaded and verified\n",
      "训练数据集长度为：50000\n",
      "测试数据集长度为：10000\n"
     ]
    }
   ],
   "execution_count": 5
  },
  {
   "cell_type": "code",
   "id": "29805b17-daed-4935-a5ab-b1daca88bd8f",
   "metadata": {
    "ExecuteTime": {
     "end_time": "2025-04-24T04:42:19.986430Z",
     "start_time": "2025-04-24T04:42:19.981170Z"
    }
   },
   "source": [
    "# 搭建神经网络:网络见 Model_save.py\n",
    "# 创建网络模型\n",
    "# 对网络模型调用.cuda()\n",
    "model = LeNet_5()\n",
    "model.to(device)\n",
    "# input = torch.ones((64, 3, 32, 32))\n",
    "# print(model(input).shape)"
   ],
   "outputs": [
    {
     "data": {
      "text/plain": [
       "LeNet_5(\n",
       "  (model1): Sequential(\n",
       "    (conv1): Conv2d(3, 32, kernel_size=(5, 5), stride=(1, 1), padding=(2, 2))\n",
       "    (pool1): MaxPool2d(kernel_size=2, stride=2, padding=0, dilation=1, ceil_mode=False)\n",
       "    (conv2): Conv2d(32, 32, kernel_size=(5, 5), stride=(1, 1), padding=(2, 2))\n",
       "    (pool2): MaxPool2d(kernel_size=2, stride=2, padding=0, dilation=1, ceil_mode=False)\n",
       "    (conv3): Conv2d(32, 64, kernel_size=(5, 5), stride=(1, 1), padding=(2, 2))\n",
       "    (pool3): MaxPool2d(kernel_size=2, stride=2, padding=0, dilation=1, ceil_mode=False)\n",
       "    (flatten): Flatten(start_dim=1, end_dim=-1)\n",
       "    (fc1): Linear(in_features=1024, out_features=64, bias=True)\n",
       "    (fc2): Linear(in_features=64, out_features=10, bias=True)\n",
       "  )\n",
       ")"
      ]
     },
     "execution_count": 6,
     "metadata": {},
     "output_type": "execute_result"
    }
   ],
   "execution_count": 6
  },
  {
   "cell_type": "code",
   "id": "d41aec30-1f79-4177-9cec-3164bf6e5f3b",
   "metadata": {
    "ExecuteTime": {
     "end_time": "2025-04-24T04:42:19.995137Z",
     "start_time": "2025-04-24T04:42:19.992987Z"
    }
   },
   "source": [
    "# 创建损失函数\n",
    "# 对损失函数调用.cuda()\n",
    "loss_fn = nn.CrossEntropyLoss()\n",
    "loss_fn.to(device)"
   ],
   "outputs": [
    {
     "data": {
      "text/plain": [
       "CrossEntropyLoss()"
      ]
     },
     "execution_count": 7,
     "metadata": {},
     "output_type": "execute_result"
    }
   ],
   "execution_count": 7
  },
  {
   "cell_type": "code",
   "id": "bd0cb7a9-7db0-4d19-bb76-162812d6354a",
   "metadata": {
    "ExecuteTime": {
     "end_time": "2025-04-24T04:42:20.006270Z",
     "start_time": "2025-04-24T04:42:20.004575Z"
    }
   },
   "source": [
    "# 定义优化器\n",
    "# learning_rate = 0.01\n",
    "# 1e-2 == 1 * (10)^(-2)\n",
    "learning_rate = 1e-2\n",
    "optimizer = torch.optim.SGD(model.parameters(), lr = learning_rate)"
   ],
   "outputs": [],
   "execution_count": 8
  },
  {
   "cell_type": "code",
   "id": "d7075ea4-1126-45fe-ac0e-9cc8fea36fda",
   "metadata": {
    "ExecuteTime": {
     "end_time": "2025-04-24T04:42:20.017316Z",
     "start_time": "2025-04-24T04:42:20.014312Z"
    }
   },
   "source": [
    "# 设置训练网络的一些参数\n",
    "# 记录训练的次数\n",
    "total_train_step = 0\n",
    "# 记录测试的次数\n",
    "total_test_step = 0\n",
    "# 记录训练的次数\n",
    "epoch = 10\n",
    "# 绘制训练图像\n",
    "writer = SummaryWriter(\"./logs/17_Model_training\")"
   ],
   "outputs": [],
   "execution_count": 9
  },
  {
   "cell_type": "code",
   "id": "6a196598-9115-4952-8a82-f01aef75ccb3",
   "metadata": {
    "ExecuteTime": {
     "end_time": "2025-04-24T04:48:22.933359Z",
     "start_time": "2025-04-24T04:42:20.024883Z"
    }
   },
   "source": [
    "# 开始训练\n",
    "for i in range(epoch):\n",
    "    print(\"-----------------第 {} 轮训练开始-----------------\".format(i + 1))\n",
    "\n",
    "    # 训练步骤开始\n",
    "    model.train()\n",
    "    for data in train_dataloader:\n",
    "        # 对数据调用.cuda()\n",
    "        imgs, targets = data\n",
    "        imgs.to(device)\n",
    "        targets.to(device)\n",
    "        outputs = model(imgs)\n",
    "        # print(outputs.shape)\n",
    "        # print(targets.shape)\n",
    "        loss = loss_fn(outputs, targets)\n",
    "\n",
    "        # 优化优化模型\n",
    "        optimizer.zero_grad()\n",
    "        loss.backward()\n",
    "        optimizer.step()\n",
    "\n",
    "        # 查看训练结果\n",
    "        total_train_step += 1\n",
    "        if total_train_step % 100 == 0:\n",
    "            print(\"训练次数:{}, loss:{}\".format(total_train_step, loss.item()))\n",
    "            writer.add_scalar(\"train_loss\", loss.item(), total_train_step)\n",
    "\n",
    "\n",
    "    model.eval()\n",
    "    # 每一轮训练结束之后在测试集上验证模型的效果，对模型进行评估，在测试集上不对模型进行调优\n",
    "    # 在with下不会再进行梯度的计算\n",
    "    total_test_loss = 0\n",
    "    with torch.no_grad():\n",
    "        right_sum = 0\n",
    "        for data in val_dataloader:\n",
    "            # 对数据调用.cuda()\n",
    "            imgs, targets = data\n",
    "            imgs.to(device)\n",
    "            targets.to(device)\n",
    "            outputs = model(imgs)\n",
    "            loss = loss_fn(outputs, targets)\n",
    "            total_test_loss += loss.item()\n",
    "            outputs = torch.argmax(outputs, dim = 1)\n",
    "            # print((outputs == targets).sum())\n",
    "            # print(outputs)\n",
    "            right_sum += (outputs == targets).sum()\n",
    "        print(\"整体测试集上的loss:{}\".format(total_test_loss)) \n",
    "        writer.add_scalar(\"test_loss\", total_test_loss, total_test_step)\n",
    "        print(\"整体测试集上的正确率:{}\".format(right_sum / 10000)) # 测试集有10000张图片\n",
    "        writer.add_scalar(\"test_accuracy\", right_sum / 10000, total_test_step)\n",
    "        total_test_step += 1\n",
    "\n",
    "    # 每一轮训练完需要保存当前模型\n",
    "    # 方法1： \n",
    "    # torch.save(model, \"../Models/LeNet_5/LeNet_5_No_{}_Loss_{}.pth\".format(epoch, total_test_step))\n",
    "    # 方法2（更推荐）：\n",
    "    torch.save(model.state_dict(), \"./models/LeNet_5/LeNet_5_No_{}_Loss_{}.pth\".format(i, total_test_step))\n",
    "    print(\"模型已保存\")\n",
    "\n",
    "\n",
    "writer.close()"
   ],
   "outputs": [
    {
     "name": "stdout",
     "output_type": "stream",
     "text": [
      "-----------------第 1 轮训练开始-----------------\n",
      "训练次数:100, loss:2.2847371101379395\n",
      "训练次数:200, loss:2.281127452850342\n",
      "训练次数:300, loss:2.2628941535949707\n",
      "训练次数:400, loss:2.18520450592041\n",
      "训练次数:500, loss:2.0906147956848145\n",
      "训练次数:600, loss:2.076401710510254\n",
      "训练次数:700, loss:2.021336793899536\n",
      "整体测试集上的loss:311.99304604530334\n",
      "整体测试集上的正确率:0.2930999994277954\n",
      "模型已保存\n",
      "-----------------第 2 轮训练开始-----------------\n",
      "训练次数:800, loss:1.8649178743362427\n",
      "训练次数:900, loss:1.8240022659301758\n",
      "训练次数:1000, loss:1.9312106370925903\n",
      "训练次数:1100, loss:1.9625526666641235\n",
      "训练次数:1200, loss:1.6884448528289795\n",
      "训练次数:1300, loss:1.6447392702102661\n",
      "训练次数:1400, loss:1.711478590965271\n",
      "训练次数:1500, loss:1.7955427169799805\n",
      "整体测试集上的loss:297.28282403945923\n",
      "整体测试集上的正确率:0.32089999318122864\n",
      "模型已保存\n",
      "-----------------第 3 轮训练开始-----------------\n",
      "训练次数:1600, loss:1.7118862867355347\n",
      "训练次数:1700, loss:1.634330153465271\n",
      "训练次数:1800, loss:1.9542057514190674\n",
      "训练次数:1900, loss:1.6894093751907349\n",
      "训练次数:2000, loss:1.9117482900619507\n",
      "训练次数:2100, loss:1.513730764389038\n",
      "训练次数:2200, loss:1.4649286270141602\n",
      "训练次数:2300, loss:1.805670976638794\n",
      "整体测试集上的loss:261.83855748176575\n",
      "整体测试集上的正确率:0.39640000462532043\n",
      "模型已保存\n",
      "-----------------第 4 轮训练开始-----------------\n",
      "训练次数:2400, loss:1.7469276189804077\n",
      "训练次数:2500, loss:1.3294920921325684\n",
      "训练次数:2600, loss:1.5618518590927124\n",
      "训练次数:2700, loss:1.6926616430282593\n",
      "训练次数:2800, loss:1.4820221662521362\n",
      "训练次数:2900, loss:1.5577504634857178\n",
      "训练次数:3000, loss:1.3475730419158936\n",
      "训练次数:3100, loss:1.4856226444244385\n",
      "整体测试集上的loss:257.53395414352417\n",
      "整体测试集上的正确率:0.40939998626708984\n",
      "模型已保存\n",
      "-----------------第 5 轮训练开始-----------------\n",
      "训练次数:3200, loss:1.3572217226028442\n",
      "训练次数:3300, loss:1.501314401626587\n",
      "训练次数:3400, loss:1.5113478899002075\n",
      "训练次数:3500, loss:1.5685361623764038\n",
      "训练次数:3600, loss:1.557090401649475\n",
      "训练次数:3700, loss:1.3602821826934814\n",
      "训练次数:3800, loss:1.2512125968933105\n",
      "训练次数:3900, loss:1.4266639947891235\n",
      "整体测试集上的loss:250.6320436000824\n",
      "整体测试集上的正确率:0.4255000054836273\n",
      "模型已保存\n",
      "-----------------第 6 轮训练开始-----------------\n",
      "训练次数:4000, loss:1.4034051895141602\n",
      "训练次数:4100, loss:1.4300907850265503\n",
      "训练次数:4200, loss:1.5184805393218994\n",
      "训练次数:4300, loss:1.2004698514938354\n",
      "训练次数:4400, loss:1.1226128339767456\n",
      "训练次数:4500, loss:1.32443368434906\n",
      "训练次数:4600, loss:1.3668543100357056\n",
      "整体测试集上的loss:240.40773367881775\n",
      "整体测试集上的正确率:0.44699999690055847\n",
      "模型已保存\n",
      "-----------------第 7 轮训练开始-----------------\n",
      "训练次数:4700, loss:1.3413459062576294\n",
      "训练次数:4800, loss:1.495513677597046\n",
      "训练次数:4900, loss:1.360313057899475\n",
      "训练次数:5000, loss:1.3947070837020874\n",
      "训练次数:5100, loss:0.9829830527305603\n",
      "训练次数:5200, loss:1.3011025190353394\n",
      "训练次数:5300, loss:1.223634123802185\n",
      "训练次数:5400, loss:1.3338335752487183\n",
      "整体测试集上的loss:230.88096058368683\n",
      "整体测试集上的正确率:0.47350001335144043\n",
      "模型已保存\n",
      "-----------------第 8 轮训练开始-----------------\n",
      "训练次数:5500, loss:1.2293226718902588\n",
      "训练次数:5600, loss:1.185670018196106\n",
      "训练次数:5700, loss:1.1903464794158936\n",
      "训练次数:5800, loss:1.2430651187896729\n",
      "训练次数:5900, loss:1.372349739074707\n",
      "训练次数:6000, loss:1.5359077453613281\n",
      "训练次数:6100, loss:1.0475486516952515\n",
      "训练次数:6200, loss:1.1174824237823486\n",
      "整体测试集上的loss:219.06780683994293\n",
      "整体测试集上的正确率:0.5037000179290771\n",
      "模型已保存\n",
      "-----------------第 9 轮训练开始-----------------\n",
      "训练次数:6300, loss:1.4048590660095215\n",
      "训练次数:6400, loss:1.0982508659362793\n",
      "训练次数:6500, loss:1.5643961429595947\n",
      "训练次数:6600, loss:1.1125121116638184\n",
      "训练次数:6700, loss:1.0192874670028687\n",
      "训练次数:6800, loss:1.1458994150161743\n",
      "训练次数:6900, loss:1.1083625555038452\n",
      "训练次数:7000, loss:0.8774405717849731\n",
      "整体测试集上的loss:207.29927664995193\n",
      "整体测试集上的正确率:0.5311999917030334\n",
      "模型已保存\n",
      "-----------------第 10 轮训练开始-----------------\n",
      "训练次数:7100, loss:1.2471065521240234\n",
      "训练次数:7200, loss:0.9403601288795471\n",
      "训练次数:7300, loss:1.156488060951233\n",
      "训练次数:7400, loss:0.8102576732635498\n",
      "训练次数:7500, loss:1.247302770614624\n",
      "训练次数:7600, loss:1.2854816913604736\n",
      "训练次数:7700, loss:0.8433217406272888\n",
      "训练次数:7800, loss:1.2671804428100586\n",
      "整体测试集上的loss:195.96560895442963\n",
      "整体测试集上的正确率:0.5569000244140625\n",
      "模型已保存\n"
     ]
    }
   ],
   "execution_count": 10
  },
  {
   "cell_type": "code",
   "id": "b058b7d4-6030-4e23-8652-8c90936671b6",
   "metadata": {
    "ExecuteTime": {
     "end_time": "2025-04-24T04:48:22.948Z",
     "start_time": "2025-04-24T04:48:22.946359Z"
    }
   },
   "source": [],
   "outputs": [],
   "execution_count": null
  }
 ],
 "metadata": {
  "kernelspec": {
   "display_name": "Pytorch",
   "language": "python",
   "name": "pytorch"
  },
  "language_info": {
   "codemirror_mode": {
    "name": "ipython",
    "version": 3
   },
   "file_extension": ".py",
   "mimetype": "text/x-python",
   "name": "python",
   "nbconvert_exporter": "python",
   "pygments_lexer": "ipython3",
   "version": "3.9.20"
  }
 },
 "nbformat": 4,
 "nbformat_minor": 5
}
