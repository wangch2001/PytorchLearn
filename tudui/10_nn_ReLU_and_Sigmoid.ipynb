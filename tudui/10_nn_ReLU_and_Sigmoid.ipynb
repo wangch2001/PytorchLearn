{
 "cells": [
  {
   "metadata": {},
   "cell_type": "markdown",
   "source": [
    "# ReLU和Sigmoid\n",
    "本实验演示了如何使用PyTorch中的ReLU和Sigmoid激活函数。\n",
    "ReLU（Rectified Linear Unit）是一种常用的激活函数，能够将负值置为0。\n",
    "Sigmoid是一种S形激活函数，输出值在0到1之间。\n"
   ],
   "id": "2152e9b6f7274f06"
  },
  {
   "cell_type": "code",
   "id": "initial_id",
   "metadata": {
    "collapsed": true,
    "ExecuteTime": {
     "end_time": "2025-04-22T07:29:35.721253Z",
     "start_time": "2025-04-22T07:29:35.719350Z"
    }
   },
   "source": [
    "# torch.nn.ReLU\n",
    "#     inplace=False          是否原地修改\n",
    "# inplace = False 时,不会修改输入对象的值,而是返回一个新创建的对象,所以打印出对象存储地址不同,类似于C语言的值传递\n",
    "# inplace = True 时,会修改输入对象的值,所以打印出对象存储地址相同,类似于C语言的引用传递\n",
    "# inplace = True ,会改变输入数据的值,节省反复申请与释放内存的空间与时间,只是将原来的地址传递,效率更好"
   ],
   "outputs": [],
   "execution_count": 1
  },
  {
   "metadata": {
    "ExecuteTime": {
     "end_time": "2025-04-22T07:29:36.475549Z",
     "start_time": "2025-04-22T07:29:35.782454Z"
    }
   },
   "cell_type": "code",
   "source": [
    "import torch\n",
    "import torchvision\n",
    "from torch.utils.data import DataLoader\n",
    "from torch.utils.tensorboard import SummaryWriter\n",
    "from torch import nn\n",
    "from torch.nn import ReLU\n",
    "from torch.nn import Sigmoid\n"
   ],
   "id": "fc423acf5bafaf30",
   "outputs": [],
   "execution_count": 2
  },
  {
   "metadata": {
    "ExecuteTime": {
     "end_time": "2025-04-22T07:29:36.961945Z",
     "start_time": "2025-04-22T07:29:36.956753Z"
    }
   },
   "cell_type": "code",
   "source": [
    "# 定义一个自定义的神经网络类Tudui，继承自nn.Module\n",
    "class Tudui(nn.Module):\n",
    "    def __init__(self):\n",
    "        super(Tudui, self).__init__()\n",
    "        # 定义ReLU激活函数\n",
    "        self.relu1 = ReLU()\n",
    "        # 定义Sigmoid激活函数\n",
    "        self.sigmoid1 = Sigmoid()\n",
    "\n",
    "    def forward(self, input):\n",
    "        # 前向传播逻辑\n",
    "        # 使用Sigmoid激活函数处理输入\n",
    "        # output = self.relu1(input)  # 如果需要使用ReLU，可以取消注释此行\n",
    "        output = self.sigmoid1(input)\n",
    "        return output\n"
   ],
   "id": "94520f2de7f5ec",
   "outputs": [],
   "execution_count": 3
  },
  {
   "metadata": {
    "ExecuteTime": {
     "end_time": "2025-04-22T07:29:38.661252Z",
     "start_time": "2025-04-22T07:29:38.048993Z"
    }
   },
   "cell_type": "code",
   "source": [
    "# 加载CIFAR10数据集\n",
    "dataset = torchvision.datasets.CIFAR10(\n",
    "    \"./data/CIFAR10\",  # 数据集存储路径\n",
    "    train=False,       # 加载测试集\n",
    "    download=True,     # 如果数据集不存在，则下载\n",
    "    transform=torchvision.transforms.ToTensor()  # 将图像转换为Tensor\n",
    ")\n",
    "\n",
    "# 使用DataLoader加载数据集，设置批量大小为64\n",
    "dataloade = DataLoader(dataset, batch_size=64)\n",
    "\n",
    "# 创建SummaryWriter对象，用于记录TensorBoard日志\n",
    "writer = SummaryWriter(\"./logs/10_nn_ReLU_and_Sigmoid\")\n"
   ],
   "id": "2cedb2d38e6c51de",
   "outputs": [
    {
     "name": "stdout",
     "output_type": "stream",
     "text": [
      "Files already downloaded and verified\n"
     ]
    }
   ],
   "execution_count": 4
  },
  {
   "metadata": {
    "ExecuteTime": {
     "end_time": "2025-04-22T07:29:39.259246Z",
     "start_time": "2025-04-22T07:29:39.233692Z"
    }
   },
   "cell_type": "code",
   "source": [
    "# 创建一个简单的输入张量\n",
    "input = torch.tensor([[1.0, -0.5],  # 输入数据\n",
    "                      [-1.0, 3.0]])\n",
    "# 将输入张量调整为形状(-1, 1, 2, 2)\n",
    "output = torch.reshape(input, (-1, 1, 2, 2))\n",
    "print(output.shape)  # 打印调整后的形状\n",
    "print(input)         # 打印原始输入\n",
    "\n",
    "# 创建Tudui模型实例\n",
    "tudui = Tudui()\n",
    "# 将输入数据传入模型，获取输出\n",
    "output = tudui(output)\n",
    "print(output)  # 打印输出结果\n"
   ],
   "id": "930c6009497c2e99",
   "outputs": [
    {
     "name": "stdout",
     "output_type": "stream",
     "text": [
      "torch.Size([1, 1, 2, 2])\n",
      "tensor([[ 1.0000, -0.5000],\n",
      "        [-1.0000,  3.0000]])\n",
      "tensor([[[[0.7311, 0.3775],\n",
      "          [0.2689, 0.9526]]]])\n"
     ]
    }
   ],
   "execution_count": 5
  },
  {
   "metadata": {
    "ExecuteTime": {
     "end_time": "2025-04-22T07:29:42.025010Z",
     "start_time": "2025-04-22T07:29:41.437115Z"
    }
   },
   "cell_type": "code",
   "source": [
    "# 遍历DataLoader中的数据\n",
    "step = 0\n",
    "for data in dataloade:\n",
    "    if step >= 10:  # 限制处理的批次数量\n",
    "        break\n",
    "    imgs, targets = data  # 获取图像和标签\n",
    "    # 将图像传入模型，获取输出\n",
    "    output = tudui(imgs)\n",
    "    # 将输入图像写入TensorBoard\n",
    "    writer.add_images(\"input\", imgs, step)\n",
    "    # 将经过Sigmoid激活后的图像写入TensorBoard\n",
    "    writer.add_images(\"Sigmoid\", output, step)\n",
    "    step += 1  # 更新步数\n",
    "\n",
    "# 关闭SummaryWriter\n",
    "writer.close()\n"
   ],
   "id": "a870ad0321e699aa",
   "outputs": [],
   "execution_count": 6
  },
  {
   "metadata": {},
   "cell_type": "code",
   "outputs": [],
   "execution_count": null,
   "source": "",
   "id": "7f1759bfdb6aaba7"
  }
 ],
 "metadata": {
  "kernelspec": {
   "display_name": "Python 3",
   "language": "python",
   "name": "python3"
  },
  "language_info": {
   "codemirror_mode": {
    "name": "ipython",
    "version": 2
   },
   "file_extension": ".py",
   "mimetype": "text/x-python",
   "name": "python",
   "nbconvert_exporter": "python",
   "pygments_lexer": "ipython2",
   "version": "2.7.6"
  }
 },
 "nbformat": 4,
 "nbformat_minor": 5
}
