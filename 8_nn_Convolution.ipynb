{
 "cells": [
  {
   "metadata": {},
   "cell_type": "markdown",
   "source": "# Conv2d 卷积",
   "id": "b12999adedb6affb"
  },
  {
   "metadata": {
    "ExecuteTime": {
     "end_time": "2025-04-22T06:59:58.227720Z",
     "start_time": "2025-04-22T06:59:58.225041Z"
    }
   },
   "cell_type": "code",
   "source": [
    "# torch.nn.Conv2d\n",
    "#     in_channels,              输入通道数\n",
    "#     out_channels,             输出通道数\n",
    "#     kernel_size,              卷积核大小\n",
    "#     stride=1,                 步长\n",
    "#     padding=0,                填充\n",
    "#     dilation=1,               空洞卷积（能够扩大卷积核感知视野）\n",
    "#     groups=1,                 分组卷积\n",
    "#     bias=True,                是否加入偏置值\n",
    "#     padding_mode='zeros',     填充值模式\n",
    "#     device=None,              设备\n",
    "#     dtype=None                数据类型"
   ],
   "id": "391670f32c02a9a4",
   "outputs": [],
   "execution_count": 1
  },
  {
   "metadata": {
    "ExecuteTime": {
     "end_time": "2025-04-22T07:00:00.019960Z",
     "start_time": "2025-04-22T06:59:59.236123Z"
    }
   },
   "cell_type": "code",
   "source": [
    "import torch\n",
    "import torchvision\n",
    "from torch.utils.data import DataLoader\n",
    "from torch import nn\n",
    "from torch.nn import Conv2d\n",
    "from torch.utils.tensorboard import SummaryWriter\n"
   ],
   "id": "4268db8c35a36c04",
   "outputs": [],
   "execution_count": 2
  },
  {
   "metadata": {
    "ExecuteTime": {
     "end_time": "2025-04-22T07:05:37.621269Z",
     "start_time": "2025-04-22T07:05:37.018063Z"
    }
   },
   "cell_type": "code",
   "source": [
    "# 准备数据\n",
    "# CIFAR10 数据集，train=False 表示加载测试集，transform 将数据转换为 Tensor 格式\n",
    "dataset = torchvision.datasets.CIFAR10(\"./data/CIFAR10\", train=False, transform=torchvision.transforms.ToTensor(), download=True)\n",
    "# DataLoader 用于批量加载数据，batch_size=64 表示每次加载 64 张图片\n",
    "dataloader = DataLoader(dataset, batch_size=64)\n"
   ],
   "id": "bf680eedf16bbd31",
   "outputs": [
    {
     "name": "stdout",
     "output_type": "stream",
     "text": [
      "Files already downloaded and verified\n"
     ]
    }
   ],
   "execution_count": 6
  },
  {
   "metadata": {
    "ExecuteTime": {
     "end_time": "2025-04-22T07:00:07.922885Z",
     "start_time": "2025-04-22T07:00:07.918555Z"
    }
   },
   "cell_type": "code",
   "source": [
    "# 构建网络\n",
    "class Tudui(nn.Module):\n",
    "    # 初始化网络结构\n",
    "    def __init__(self):\n",
    "        super(Tudui, self).__init__()  # 调用父类的初始化方法\n",
    "        # 定义一个二维卷积层\n",
    "        # in_channels=3 表示输入通道数为 3（RGB 图像）\n",
    "        # out_channels=6 表示输出通道数为 6\n",
    "        # kernel_size=3 表示卷积核大小为 3x3\n",
    "        # stride=1 表示步长为 1\n",
    "        # padding=0 表示不进行填充\n",
    "        self.conv1 = Conv2d(in_channels=3, out_channels=6, kernel_size=3, stride=1, padding=0)\n",
    "\n",
    "    # 定义前向传播过程\n",
    "    def forward(self, x):\n",
    "        # 输入数据经过卷积层处理\n",
    "        x = self.conv1(x)\n",
    "        return x\n"
   ],
   "id": "2ddf1e8caada8ff",
   "outputs": [],
   "execution_count": 4
  },
  {
   "metadata": {
    "ExecuteTime": {
     "end_time": "2025-04-22T07:05:48.827388Z",
     "start_time": "2025-04-22T07:05:48.061146Z"
    }
   },
   "cell_type": "code",
   "source": [
    "# 使用网络\n",
    "tudui = Tudui()  # 实例化网络\n",
    "print(tudui)  # 打印网络结构\n",
    "\n",
    "# 创建 TensorBoard 日志记录器，保存路径为 ./logs/8_nn_Convolution\n",
    "writer = SummaryWriter(\"./logs/8_nn_Convolution\")\n",
    "step = 0  # 初始化步数\n",
    "\n",
    "# 遍历数据加载器中的数据\n",
    "for data in dataloader:\n",
    "    if step > 10:  # 限制循环次数，避免处理过多数据\n",
    "        break\n",
    "    print(\"No.{}\".format(step))  # 打印当前步数\n",
    "    imgs, targets = data  # 获取图片和标签\n",
    "    output = tudui(imgs)  # 将图片输入网络，获取输出结果\n",
    "\n",
    "    # 将输入图片写入 TensorBoard，标签为 \"input\"\n",
    "    writer.add_images(\"input\", imgs, step)\n",
    "\n",
    "    # 输出结果的形状为 [64, 6, 30, 30]，需要调整为 [64, 3, 30, 30] 才能写入 TensorBoard\n",
    "    # 这里假设输出通道数为 6，reshape 为 3 通道以适配 TensorBoard 的显示要求\n",
    "    output = torch.reshape(output, (-1, 3, 30, 30))\n",
    "    writer.add_images(\"output\", output, step)  # 将输出图片写入 TensorBoard，标签为 \"output\"\n",
    "\n",
    "    # 打印输入图片和输出结果的形状\n",
    "    print(imgs.shape)  # 输入图片形状：[64, 3, 32, 32]\n",
    "    print(output.shape)  # 输出图片形状：[64, 3, 30, 30]\n",
    "    step += 1  # 更新步数\n"
   ],
   "id": "c0bc0be8659dca3c",
   "outputs": [
    {
     "name": "stdout",
     "output_type": "stream",
     "text": [
      "Tudui(\n",
      "  (conv1): Conv2d(3, 6, kernel_size=(3, 3), stride=(1, 1))\n",
      ")\n",
      "No.0\n",
      "torch.Size([64, 3, 32, 32])\n",
      "torch.Size([128, 3, 30, 30])\n",
      "No.1\n",
      "torch.Size([64, 3, 32, 32])\n",
      "torch.Size([128, 3, 30, 30])\n",
      "No.2\n",
      "torch.Size([64, 3, 32, 32])\n",
      "torch.Size([128, 3, 30, 30])\n",
      "No.3\n",
      "torch.Size([64, 3, 32, 32])\n",
      "torch.Size([128, 3, 30, 30])\n",
      "No.4\n",
      "torch.Size([64, 3, 32, 32])\n",
      "torch.Size([128, 3, 30, 30])\n",
      "No.5\n",
      "torch.Size([64, 3, 32, 32])\n",
      "torch.Size([128, 3, 30, 30])\n",
      "No.6\n",
      "torch.Size([64, 3, 32, 32])\n",
      "torch.Size([128, 3, 30, 30])\n",
      "No.7\n",
      "torch.Size([64, 3, 32, 32])\n",
      "torch.Size([128, 3, 30, 30])\n",
      "No.8\n",
      "torch.Size([64, 3, 32, 32])\n",
      "torch.Size([128, 3, 30, 30])\n",
      "No.9\n",
      "torch.Size([64, 3, 32, 32])\n",
      "torch.Size([128, 3, 30, 30])\n",
      "No.10\n",
      "torch.Size([64, 3, 32, 32])\n",
      "torch.Size([128, 3, 30, 30])\n"
     ]
    }
   ],
   "execution_count": 7
  },
  {
   "metadata": {},
   "cell_type": "code",
   "outputs": [],
   "execution_count": null,
   "source": "",
   "id": "267df7ac649ff193"
  }
 ],
 "metadata": {
  "kernelspec": {
   "display_name": "Python 3",
   "language": "python",
   "name": "python3"
  },
  "language_info": {
   "codemirror_mode": {
    "name": "ipython",
    "version": 2
   },
   "file_extension": ".py",
   "mimetype": "text/x-python",
   "name": "python",
   "nbconvert_exporter": "python",
   "pygments_lexer": "ipython2",
   "version": "2.7.6"
  }
 },
 "nbformat": 4,
 "nbformat_minor": 5
}
