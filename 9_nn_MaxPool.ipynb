{
 "cells": [
  {
   "metadata": {},
   "cell_type": "markdown",
   "source": "# MaxPool2d 池化",
   "id": "4881a35a161fe5ce"
  },
  {
   "metadata": {
    "ExecuteTime": {
     "end_time": "2025-04-22T07:12:57.405806Z",
     "start_time": "2025-04-22T07:12:57.403155Z"
    }
   },
   "cell_type": "code",
   "source": [
    "# torch.nn.MaxPool2d\n",
    "#     kernel_size,                池化核大小，与卷积核类似\n",
    "#     stride=None,                与卷积层不同，卷积层的默认步长为1，池化层中默认大小为kernel_size\n",
    "#     padding=0,                  填充，与卷积层类似\n",
    "#     dilation=1,                 空洞，与卷积层类似\n",
    "#     return_indices=False,       是否返回池化的索引值\n",
    "#     ceil_mode=False             计算输出尺寸是否向上取整"
   ],
   "id": "8f21bb8b503201ee",
   "outputs": [],
   "execution_count": 1
  },
  {
   "metadata": {
    "ExecuteTime": {
     "end_time": "2025-04-22T07:14:46.194716Z",
     "start_time": "2025-04-22T07:14:46.191282Z"
    }
   },
   "cell_type": "code",
   "source": [
    "import torch\n",
    "from torch import nn\n",
    "import torchvision\n",
    "from torch.utils.data import DataLoader\n",
    "from torch.utils.tensorboard import SummaryWriter"
   ],
   "id": "29fa9434ebf90755",
   "outputs": [],
   "execution_count": 7
  },
  {
   "metadata": {
    "ExecuteTime": {
     "end_time": "2025-04-22T07:14:46.839031Z",
     "start_time": "2025-04-22T07:14:46.835060Z"
    }
   },
   "cell_type": "code",
   "source": [
    "# 定义一个自定义的神经网络类\n",
    "class Tudui(nn.Module):\n",
    "    def __init__(self):\n",
    "        super(Tudui, self).__init__()\n",
    "        # 定义一个2D最大池化层，池化核大小为3，ceil_mode为False表示输出尺寸向下取整\n",
    "        self.maxpool1 = nn.MaxPool2d(kernel_size=3, ceil_mode=False)\n",
    "\n",
    "    def forward(self, input):\n",
    "        # 前向传播，应用最大池化操作\n",
    "        output = self.maxpool1(input)\n",
    "        return output"
   ],
   "id": "efd01e9edd1a6133",
   "outputs": [],
   "execution_count": 8
  },
  {
   "metadata": {
    "ExecuteTime": {
     "end_time": "2025-04-22T07:14:47.427690Z",
     "start_time": "2025-04-22T07:14:47.421392Z"
    }
   },
   "cell_type": "code",
   "source": [
    "# 创建一个输入张量，模拟5x5的图像数据\n",
    "input = torch.tensor([[1, 2, 0, 3, 1],\n",
    "                      [0, 1, 2, 3, 1],\n",
    "                      [1, 2, 1, 0, 0],\n",
    "                      [5, 2, 3, 1, 1],\n",
    "                      [2, 1, 0, 1, 1]], dtype=torch.float32)\n",
    "# 将输入张量调整为4维张量，形状为(batch_size, channels, height, width)\n",
    "input = torch.reshape(input, (-1, 1, 5, 5))\n",
    "print(input.shape)  # 打印输入张量的形状\n",
    "\n",
    "# 实例化自定义网络并进行前向传播\n",
    "tudui = Tudui()\n",
    "output = tudui(input)\n",
    "print(output)  # 打印池化后的输出"
   ],
   "id": "1798f07c877ccd29",
   "outputs": [
    {
     "name": "stdout",
     "output_type": "stream",
     "text": [
      "torch.Size([1, 1, 5, 5])\n",
      "tensor([[[[2.]]]])\n"
     ]
    }
   ],
   "execution_count": 9
  },
  {
   "metadata": {
    "ExecuteTime": {
     "end_time": "2025-04-22T07:19:16.386791Z",
     "start_time": "2025-04-22T07:19:15.409190Z"
    }
   },
   "cell_type": "code",
   "source": [
    "# 加载CIFAR10数据集，设置为测试集，自动下载数据并将其转换为张量\n",
    "dataset = torchvision.datasets.CIFAR10(\"./data/CIFAR10\", train=False, download=True,\n",
    "                                       transform=torchvision.transforms.ToTensor())\n",
    "# 使用DataLoader加载数据集，设置批量大小为64\n",
    "dataloader = DataLoader(dataset, batch_size=64)\n",
    "\n",
    "# 创建一个SummaryWriter对象，用于记录TensorBoard日志\n",
    "writer = SummaryWriter(\"./logs/9_nn_MaxPool\")\n",
    "\n",
    "# 遍历数据集，记录输入和池化后的输出到TensorBoard\n",
    "step = 0\n",
    "for data in dataloader:\n",
    "    if step >= 10:  # 限制记录的步数，避免处理过多数据\n",
    "        break\n",
    "    imgs, targets = data  # 获取图像和对应的标签\n",
    "    writer.add_images(\"input\", imgs, step)  # 将输入图像记录到TensorBoard\n",
    "    output = tudui(imgs)  # 对输入图像进行池化操作\n",
    "    writer.add_images(\"output\", output, step)  # 将池化后的输出记录到TensorBoard\n",
    "    step += 1\n",
    "\n",
    "# 关闭SummaryWriter，释放资源\n",
    "writer.close()"
   ],
   "id": "a095c7e44cb816a6",
   "outputs": [
    {
     "name": "stdout",
     "output_type": "stream",
     "text": [
      "Files already downloaded and verified\n"
     ]
    }
   ],
   "execution_count": 12
  },
  {
   "metadata": {},
   "cell_type": "code",
   "outputs": [],
   "execution_count": null,
   "source": "",
   "id": "f9259d48004d8b41"
  }
 ],
 "metadata": {
  "kernelspec": {
   "display_name": "Python 3",
   "language": "python",
   "name": "python3"
  },
  "language_info": {
   "codemirror_mode": {
    "name": "ipython",
    "version": 2
   },
   "file_extension": ".py",
   "mimetype": "text/x-python",
   "name": "python",
   "nbconvert_exporter": "python",
   "pygments_lexer": "ipython2",
   "version": "2.7.6"
  }
 },
 "nbformat": 4,
 "nbformat_minor": 5
}
