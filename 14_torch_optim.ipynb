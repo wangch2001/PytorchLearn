{
 "cells": [
  {
   "metadata": {},
   "cell_type": "markdown",
   "source": [
    "# 优化器Optimizer\n",
    "torch.optim 是 PyTorch 中的 优化器模块，用于更新神经网络中所有 可学习参数（带梯度的张量）\n",
    "\n",
    "# 一、什么是 torch.optim？   \n",
    "torch.optim 提供了一组优化器类（optimizers），这些类负责使用计算得到的梯度来更新模型的参数。   \n",
    "\n",
    "# 二、PyTorch 训练流程中的位置 \n",
    "\n",
    "```python\n",
    "# 1. 前向传播\n",
    "output = model(input)  # 输入数据通过模型，得到预测输出\n",
    "\n",
    "# 2. 计算损失\n",
    "loss = loss_fn(output, target)  # 使用损失函数计算预测值与真实值之间的误差\n",
    "\n",
    "# 3. 清空梯度，否则会累加\n",
    "optimizer.zero_grad()  # 清空之前计算的梯度，避免梯度累加\n",
    "\n",
    "# 4. 反向传播，计算梯度\n",
    "loss.backward()  # 通过反向传播计算每个参数的梯度\n",
    "\n",
    "# 5. 使用优化器更新权重\n",
    "optimizer.step()  # 根据梯度更新模型参数\n",
    "\n",
    "\n",
    "```\n",
    "\n",
    "# 三、常用优化器一览（torch.optim 中的类）     \n",
    "![常用优化器](./images/Optim.png)\n",
    "\n",
    "# 四、优化器常用参数\n",
    "![优化器常用参数](./images/Optism2.png)"
   ],
   "id": "f87d72cd83e526a3"
  },
  {
   "metadata": {},
   "cell_type": "code",
   "outputs": [],
   "execution_count": null,
   "source": [
    "# optim.SGD\n",
    "#     params,                        要优化的参数，一般用model.parameters()\n",
    "#     lr,                            学习率，控制每次参数更新的步长\n",
    "#     momentum=0,                    动量，缓解震荡，加速收敛，常设为0.9\n",
    "#     dampening=0,                   动量衰减，减少过快更新（一般不用）\n",
    "#     weight_decay=0,                权重衰减，用于L2正则化，防止过拟合\n",
    "#     nesterov=False,                是否使用Nesterov动量（更快收敛）\n",
    "#     maximize=False,                若设为True，执行梯度上升（用于强化学习）\n",
    "#     foreach=None,                  是否启用多张量操作（提高效率）\n",
    "#     differentiable=False           是否启用二阶梯度（很少用）"
   ],
   "id": "3c3b430dbeafe5d6"
  },
  {
   "metadata": {
    "ExecuteTime": {
     "end_time": "2025-04-22T11:17:42.066054Z",
     "start_time": "2025-04-22T11:17:41.455922Z"
    }
   },
   "cell_type": "code",
   "source": [
    "import torch\n",
    "import torchvision\n",
    "from torch import nn\n",
    "from collections import OrderedDict"
   ],
   "id": "23b2840fcc86b9ad",
   "outputs": [],
   "execution_count": 1
  },
  {
   "metadata": {
    "ExecuteTime": {
     "end_time": "2025-04-22T11:18:03.354591Z",
     "start_time": "2025-04-22T11:18:03.346129Z"
    }
   },
   "cell_type": "code",
   "source": [
    "class Tudui(nn.Module):\n",
    "    def __init__(self):\n",
    "        super(Tudui, self).__init__()\n",
    "        # 使用 nn.Sequential 定义一个简单的卷积神经网络\n",
    "        self.model1 = nn.Sequential(OrderedDict([\n",
    "            ('conv1', nn.Conv2d(in_channels=3, out_channels=32, kernel_size=5, padding=2)),  # 第一层卷积\n",
    "            ('pool1', nn.MaxPool2d(kernel_size=2)),  # 第一层池化\n",
    "            ('conv2', nn.Conv2d(in_channels=32, out_channels=32, kernel_size=5, padding=2)),  # 第二层卷积\n",
    "            ('pool2', nn.MaxPool2d(kernel_size=2)),  # 第二层池化\n",
    "            ('conv3', nn.Conv2d(in_channels=32, out_channels=64, kernel_size=5, padding=2)),  # 第三层卷积\n",
    "            ('pool3', nn.MaxPool2d(kernel_size=2)),  # 第三层池化\n",
    "            ('flatten', nn.Flatten()),  # 展平张量为一维\n",
    "            ('fc1', nn.Linear(1024, 64)),  # 全连接层1，输入1024，输出64\n",
    "            ('fc2', nn.Linear(64, 10))  # 全连接层2，输入64，输出10（分类数）\n",
    "        ]))\n",
    "\n",
    "    def forward(self, x):\n",
    "        # 定义前向传播\n",
    "        return self.model1(x)"
   ],
   "id": "249452bd070be92",
   "outputs": [],
   "execution_count": 2
  },
  {
   "metadata": {
    "ExecuteTime": {
     "end_time": "2025-04-22T11:18:16.955928Z",
     "start_time": "2025-04-22T11:18:16.333043Z"
    }
   },
   "cell_type": "code",
   "source": [
    "# 加载 CIFAR10 数据集\n",
    "dataset = torchvision.datasets.CIFAR10(\n",
    "    \"./data/CIFAR10/\",  # 数据集存储路径\n",
    "    train=False,  # 加载测试集\n",
    "    transform=torchvision.transforms.ToTensor(),  # 将图像转换为张量\n",
    "    download=True  # 如果数据集不存在，则下载\n",
    ")\n",
    "# 使用 DataLoader 加载数据集\n",
    "dataloader = torch.utils.data.DataLoader(dataset, batch_size=64)  # 每批次加载64张图片"
   ],
   "id": "19488699e8641ab8",
   "outputs": [
    {
     "name": "stdout",
     "output_type": "stream",
     "text": [
      "Files already downloaded and verified\n"
     ]
    }
   ],
   "execution_count": 3
  },
  {
   "metadata": {
    "ExecuteTime": {
     "end_time": "2025-04-22T11:20:05.955304Z",
     "start_time": "2025-04-22T11:19:31.758712Z"
    }
   },
   "cell_type": "code",
   "source": [
    "# 实例化模型\n",
    "tudui = Tudui()\n",
    "# 定义交叉熵损失函数\n",
    "loss = nn.CrossEntropyLoss()\n",
    "# 定义优化器，使用随机梯度下降（SGD）\n",
    "optim = torch.optim.SGD(tudui.parameters(), lr=0.01)  # 学习率为0.01\n",
    "\n",
    "# 训练循环\n",
    "for epoch in range(5):  # 训练5个epoch\n",
    "    running_loss = 0.0  # 初始化累计损失\n",
    "    for data in dataloader:  # 遍历数据加载器\n",
    "        imgs, targets = data  # 获取图像和对应的标签\n",
    "        outputs = tudui(imgs)  # 前向传播，获取模型输出\n",
    "        result_loss = loss(outputs, targets)  # 计算损失\n",
    "        optim.zero_grad()  # 清空梯度\n",
    "        result_loss.backward()  # 反向传播，计算梯度\n",
    "        optim.step()  # 更新模型参数\n",
    "        running_loss = running_loss + result_loss  # 累加损失\n",
    "    print(running_loss)  # 打印每个epoch的累计损失"
   ],
   "id": "2bfa0408f4caaa24",
   "outputs": [
    {
     "name": "stdout",
     "output_type": "stream",
     "text": [
      "tensor(360.6461, grad_fn=<AddBackward0>)\n",
      "tensor(356.7375, grad_fn=<AddBackward0>)\n",
      "tensor(344.2848, grad_fn=<AddBackward0>)\n",
      "tensor(324.0723, grad_fn=<AddBackward0>)\n",
      "tensor(309.8381, grad_fn=<AddBackward0>)\n"
     ]
    }
   ],
   "execution_count": 4
  },
  {
   "cell_type": "code",
   "execution_count": null,
   "id": "bcc3695a-003c-4286-a7a2-cd0003c135d2",
   "metadata": {},
   "outputs": [],
   "source": []
  }
 ],
 "metadata": {
  "kernelspec": {
   "display_name": "Python 3 (ipykernel)",
   "language": "python",
   "name": "python3"
  },
  "language_info": {
   "codemirror_mode": {
    "name": "ipython",
    "version": 3
   },
   "file_extension": ".py",
   "mimetype": "text/x-python",
   "name": "python",
   "nbconvert_exporter": "python",
   "pygments_lexer": "ipython3",
   "version": "3.9.20"
  }
 },
 "nbformat": 4,
 "nbformat_minor": 5
}
