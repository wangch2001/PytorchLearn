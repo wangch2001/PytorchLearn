{
 "cells": [
  {
   "metadata": {},
   "cell_type": "markdown",
   "source": "# 模型测试",
   "id": "9e38db5991c1c5dc"
  },
  {
   "cell_type": "code",
   "id": "initial_id",
   "metadata": {
    "collapsed": true,
    "ExecuteTime": {
     "end_time": "2025-04-24T04:56:47.276774Z",
     "start_time": "2025-04-24T04:56:46.815668Z"
    }
   },
   "source": [
    "import torch\n",
    "import torchvision\n",
    "from PIL import Image\n",
    "from Model_save import *"
   ],
   "outputs": [],
   "execution_count": 1
  },
  {
   "metadata": {
    "ExecuteTime": {
     "end_time": "2025-04-24T04:56:47.697995Z",
     "start_time": "2025-04-24T04:56:47.693487Z"
    }
   },
   "cell_type": "code",
   "source": [
    "# 特别说明：\n",
    "# RGB图像是3通道的，PNG图像是4通道的（相比于RGB图像还多了一个透明度通道色）\n",
    "# 所以需要使用image.convert（‘RGB'）来剔除掉透明度通道，只保留三原色通道"
   ],
   "id": "4c12aca2b0184cd6",
   "outputs": [],
   "execution_count": 2
  },
  {
   "metadata": {
    "ExecuteTime": {
     "end_time": "2025-04-24T04:56:48.429123Z",
     "start_time": "2025-04-24T04:56:48.403092Z"
    }
   },
   "cell_type": "code",
   "source": [
    "# 准备图像\n",
    "image_pth = \"./images/dog.png\"\n",
    "img = Image.open(image_pth)\n",
    "img = img.convert('RGB')"
   ],
   "id": "471e45891c58ffc7",
   "outputs": [],
   "execution_count": 3
  },
  {
   "metadata": {
    "ExecuteTime": {
     "end_time": "2025-04-24T04:56:49.396004Z",
     "start_time": "2025-04-24T04:56:49.391034Z"
    }
   },
   "cell_type": "code",
   "source": [
    "transform = torchvision.transforms.Compose([torchvision.transforms.Resize((32, 32)),\n",
    "                                            torchvision.transforms.ToTensor()])"
   ],
   "id": "1eb89555c3b77426",
   "outputs": [],
   "execution_count": 4
  },
  {
   "metadata": {
    "ExecuteTime": {
     "end_time": "2025-04-24T04:56:51.940770Z",
     "start_time": "2025-04-24T04:56:51.933128Z"
    }
   },
   "cell_type": "code",
   "source": [
    "# 准备图像\n",
    "image = transform(img)\n",
    "image = torch.reshape(image, (1, 3, 32, 32))\n",
    "print(image.shape)"
   ],
   "id": "505e49e0c7cd02b2",
   "outputs": [
    {
     "name": "stdout",
     "output_type": "stream",
     "text": [
      "torch.Size([1, 3, 32, 32])\n"
     ]
    }
   ],
   "execution_count": 5
  },
  {
   "metadata": {
    "ExecuteTime": {
     "end_time": "2025-04-24T04:56:53.924909Z",
     "start_time": "2025-04-24T04:56:53.913792Z"
    }
   },
   "cell_type": "code",
   "source": [
    "# 准备训练好的模型\n",
    "model = LeNet_5()\n",
    "# 加载模型参数\n",
    "# model_weight = torch.load(\"./models/LeNet_5/LeNet_5_No_10_Loss_10.pth\", weights_only=True)\n",
    "# 如果模型参数是在 GPU 上训练来的，需要在使用时指定使用设备\n",
    "model_weight = torch.load(\"./models/LeNet_5/LeNet_5_No_10_Loss_10.pth\", weights_only=True, map_location = torch.device('cpu'))\n",
    "model.load_state_dict(model_weight)\n",
    "print(model)"
   ],
   "id": "422934c81ea08244",
   "outputs": [
    {
     "name": "stdout",
     "output_type": "stream",
     "text": [
      "LeNet_5(\n",
      "  (model1): Sequential(\n",
      "    (conv1): Conv2d(3, 32, kernel_size=(5, 5), stride=(1, 1), padding=(2, 2))\n",
      "    (pool1): MaxPool2d(kernel_size=2, stride=2, padding=0, dilation=1, ceil_mode=False)\n",
      "    (conv2): Conv2d(32, 32, kernel_size=(5, 5), stride=(1, 1), padding=(2, 2))\n",
      "    (pool2): MaxPool2d(kernel_size=2, stride=2, padding=0, dilation=1, ceil_mode=False)\n",
      "    (conv3): Conv2d(32, 64, kernel_size=(5, 5), stride=(1, 1), padding=(2, 2))\n",
      "    (pool3): MaxPool2d(kernel_size=2, stride=2, padding=0, dilation=1, ceil_mode=False)\n",
      "    (flatten): Flatten(start_dim=1, end_dim=-1)\n",
      "    (fc1): Linear(in_features=1024, out_features=64, bias=True)\n",
      "    (fc2): Linear(in_features=64, out_features=10, bias=True)\n",
      "  )\n",
      ")\n"
     ]
    }
   ],
   "execution_count": 6
  },
  {
   "metadata": {
    "ExecuteTime": {
     "end_time": "2025-04-24T04:56:56.254664Z",
     "start_time": "2025-04-24T04:56:56.244812Z"
    }
   },
   "cell_type": "code",
   "source": [
    "# 使用模型识别图像\n",
    "model.eval()\n",
    "with torch.no_grad():\n",
    "    output = model(image)\n",
    "print(torch.argmax(output))\n",
    "# 预测结果\n",
    "# 0表示飞机\n",
    "# 1表示汽车\n",
    "# 2表示鸟\n",
    "# 3表示猫\n",
    "# 4表示鹿\n",
    "# 5表示狗\n",
    "# 6表示青蛙\n",
    "# 7表示马\n",
    "# 8表示船\n",
    "# 9表示卡车\n"
   ],
   "id": "a5d7643759f11f07",
   "outputs": [
    {
     "name": "stdout",
     "output_type": "stream",
     "text": [
      "tensor(5)\n"
     ]
    }
   ],
   "execution_count": 7
  },
  {
   "metadata": {},
   "cell_type": "code",
   "outputs": [],
   "execution_count": null,
   "source": "",
   "id": "327274e571c34e1b"
  }
 ],
 "metadata": {
  "kernelspec": {
   "display_name": "Python 3",
   "language": "python",
   "name": "python3"
  },
  "language_info": {
   "codemirror_mode": {
    "name": "ipython",
    "version": 2
   },
   "file_extension": ".py",
   "mimetype": "text/x-python",
   "name": "python",
   "nbconvert_exporter": "python",
   "pygments_lexer": "ipython2",
   "version": "2.7.6"
  }
 },
 "nbformat": 4,
 "nbformat_minor": 5
}
