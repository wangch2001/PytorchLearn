{
 "cells": [
  {
   "metadata": {},
   "cell_type": "markdown",
   "source": "# 模型基本结构",
   "id": "28e0d3277daf7a0d"
  },
  {
   "cell_type": "code",
   "execution_count": null,
   "id": "initial_id",
   "metadata": {
    "collapsed": true
   },
   "outputs": [],
   "source": [
    "# Module:\n",
    "    # Base class for all neural network modules.\n",
    "    # Your models should also subclass this class.\n",
    "    # 搭建的所有模型都必须从 Module 类继承\n",
    "\n",
    "    # forward：\n",
    "        # Define the computation performed at every call.\n",
    "        # Should be overridden by all subclasses.\n",
    "        # 所有子类中都必须重写\n",
    "\n",
    "    # 下面是一个简单的示例：\n",
    "# import torch.nn as nn\n",
    "# import torch.nn.functional as F\n",
    "\n",
    "# class Model(nn.Module):\n",
    "#     def __init__(self) -> None:\n",
    "#         super().__init__()                         必须的一步，对父类进行初始化\n",
    "#         self.conv1 = nn.Conv2d(1, 20, 5)           插入模型层结构\n",
    "#         self.conv2 = nn.Conv2d(20, 20, 5)\n",
    "\n",
    "#     def forward(self, x):                          定义前向传播逻辑，调用层结构\n",
    "#         x = F.relu(self.conv1(x))\n",
    "#         return F.relu(self.conv2(x))"
   ]
  },
  {
   "metadata": {
    "ExecuteTime": {
     "end_time": "2025-04-21T14:45:42.985401Z",
     "start_time": "2025-04-21T14:45:42.523495Z"
    }
   },
   "cell_type": "code",
   "source": [
    "import torch\n",
    "from torch import nn"
   ],
   "id": "8bc75034f55d122",
   "outputs": [],
   "execution_count": 1
  },
  {
   "metadata": {
    "ExecuteTime": {
     "end_time": "2025-04-21T14:46:06.161506Z",
     "start_time": "2025-04-21T14:46:06.158402Z"
    }
   },
   "cell_type": "code",
   "source": [
    "# 自定义一个神经网络模型\n",
    "class Tudui(nn.Module):\n",
    "    def __init__(self):\n",
    "        super().__init__()  # 调用父类的初始化方法，确保父类的属性和方法被正确初始化\n",
    "        # 此处可以定义模型的层结构，但当前示例中没有定义任何层\n",
    "\n",
    "    def forward(self, input):\n",
    "        # 定义前向传播逻辑，input 是输入张量\n",
    "        # 这里简单地将输入加 1 并返回，作为示例\n",
    "        output = input + 1\n",
    "        return output"
   ],
   "id": "b97c709430334e09",
   "outputs": [],
   "execution_count": 2
  },
  {
   "metadata": {
    "ExecuteTime": {
     "end_time": "2025-04-21T14:46:25.997095Z",
     "start_time": "2025-04-21T14:46:25.992237Z"
    }
   },
   "cell_type": "code",
   "source": [
    "# 创建自定义模型的实例\n",
    "module_1 = Tudui()\n",
    "\n",
    "# 定义一个输入张量\n",
    "x = torch.tensor([1.0, 2.5])\n",
    "\n",
    "# 调用模型的 forward 方法，计算输出\n",
    "output = module_1(x)\n",
    "\n",
    "# 打印输出结果\n",
    "print(output)\n",
    "\n",
    "# 测试模型对单个标量输入的处理\n",
    "print(module_1(torch.tensor(1.0)))\n"
   ],
   "id": "4e16d57fccdda884",
   "outputs": [
    {
     "name": "stdout",
     "output_type": "stream",
     "text": [
      "tensor([2.0000, 3.5000])\n",
      "tensor(2.)\n"
     ]
    }
   ],
   "execution_count": 3
  },
  {
   "metadata": {},
   "cell_type": "code",
   "outputs": [],
   "execution_count": null,
   "source": "",
   "id": "cc0cae1d7f49aca1"
  }
 ],
 "metadata": {
  "kernelspec": {
   "display_name": "Python 3",
   "language": "python",
   "name": "python3"
  },
  "language_info": {
   "codemirror_mode": {
    "name": "ipython",
    "version": 2
   },
   "file_extension": ".py",
   "mimetype": "text/x-python",
   "name": "python",
   "nbconvert_exporter": "python",
   "pygments_lexer": "ipython2",
   "version": "2.7.6"
  }
 },
 "nbformat": 4,
 "nbformat_minor": 5
}
