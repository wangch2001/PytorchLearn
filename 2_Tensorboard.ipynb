{
 "cells": [
  {
   "metadata": {},
   "cell_type": "markdown",
   "source": [
    "# Tensorboard使用\n",
    "1. 指定logdir,创建SummaryWriter对象：writer = SummaryWriter(\"./logs/2_Tensorboard\")\n",
    "3. 添加数据\n",
    "2. wirter.add_image()\n",
    "3. writer.add_scalar()\n",
    "4. writer.close()\n",
    "\n",
    "\n",
    "控制台输入：tensorboard --logdir=logs --port=6006(可选)"
   ],
   "id": "728ceffe894873ef"
  },
  {
   "metadata": {},
   "cell_type": "code",
   "outputs": [],
   "execution_count": null,
   "source": [
    "from torch.utils.tensorboard import SummaryWriter\n",
    "import os\n",
    "from PIL import Image\n",
    "import torch\n",
    "from torchvision import transforms, utils\n",
    "import math"
   ],
   "id": "8f9abcda5364a552"
  },
  {
   "metadata": {},
   "cell_type": "code",
   "outputs": [],
   "execution_count": null,
   "source": "writer = SummaryWriter(\"./logs/2_Tensorboard\")",
   "id": "d623b4f91214c60"
  },
  {
   "metadata": {},
   "cell_type": "code",
   "outputs": [],
   "execution_count": null,
   "source": [
    "# 常用步骤为以下三步\n",
    "# 1 2 添加\n",
    "# writer.add_image()\n",
    "# writer.add_scalar()\n",
    "# 3 close\n",
    "# writer.close()"
   ],
   "id": "6efedca7a46b3594"
  },
  {
   "metadata": {},
   "cell_type": "code",
   "outputs": [],
   "execution_count": null,
   "source": [
    "# 如何添加函数图像\n",
    "# writer.add_scalar()\n",
    "    # def add_scalar(\n",
    "    #     self,\n",
    "    #     tag,                图表title\n",
    "    #     scalar_value,       图标数值 y轴\n",
    "    #     global_step=None,   步数 x轴\n",
    "    #     walltime=None,\n",
    "    #     new_style=False,\n",
    "    #     double_precision=False,\n",
    "    # ):\n",
    "\n",
    "for i in range(100):\n",
    "    # 不同的tag会绘制到不同的表中，不用怕串\n",
    "    # writer.add_scalar(\"y = x\", i, i)\n",
    "    writer.add_scalar(\"y = 2x\", 2 * i, i)"
   ],
   "id": "d1f50ef719453418"
  },
  {
   "metadata": {},
   "cell_type": "code",
   "outputs": [],
   "execution_count": null,
   "source": [
    "# 如何添加图像\n",
    "# writer.add_image()\n",
    "    # def add_image(\n",
    "    #     self,\n",
    "    #     tag,                 图title\n",
    "    #     img_tensor,          图数据，需要：torch.Tensor, numpy.ndarray, or string/blobname 类型\n",
    "    #     global_step=None,\n",
    "    #     walltime=None,\n",
    "    #     dataformats=\"CHW\"。  img_tensor默认尺寸为(3, H, W)，3通道H高度W宽度。如果是其他形状需要使用dataformats变量来进行说明。\n",
    "    # ):"
   ],
   "id": "885bc25271bdd4c6"
  },
  {
   "metadata": {},
   "cell_type": "code",
   "outputs": [],
   "execution_count": null,
   "source": "image_path = \"./data/hymenoptera_data/train/ants\"",
   "id": "26cd6a4690b95c6f"
  },
  {
   "metadata": {},
   "cell_type": "code",
   "outputs": [],
   "execution_count": null,
   "source": [
    "# 定义图像预处理变换：调整为统一大小并转换为Tensor格式\n",
    "# 这一部分详细内容看3_Transforms\n",
    "transform = transforms.Compose([\n",
    "    transforms.Resize((256, 256)),  # 调整图片大小\n",
    "    transforms.ToTensor()           # 转换为Tensor\n",
    "])"
   ],
   "id": "a15615b763a6c1f3"
  },
  {
   "metadata": {},
   "cell_type": "code",
   "outputs": [],
   "execution_count": null,
   "source": [
    "# 获取 image_path 文件夹下的所有文件名\n",
    "image_files = os.listdir(image_path)\n",
    "# 用于存储所有图片的Tensor\n",
    "images_list = []"
   ],
   "id": "976e6fc9e5c38817"
  },
  {
   "metadata": {},
   "cell_type": "code",
   "outputs": [],
   "execution_count": null,
   "source": [
    "# 遍历所有文件，将图片打开、预处理后保存到列表中\n",
    "for file_name in image_files:\n",
    "    full_path = os.path.join(image_path, file_name)\n",
    "    # 打开图片，并确保转换为RGB模式（确保一致性）\n",
    "    img_pil = Image.open(full_path).convert(\"RGB\")\n",
    "    # 应用预处理变换，将PIL Image转换为Tensor\n",
    "    img_tensor = transform(img_pil)\n",
    "    images_list.append(img_tensor)"
   ],
   "id": "b31e762bcb5837dc"
  },
  {
   "metadata": {},
   "cell_type": "code",
   "outputs": [],
   "execution_count": null,
   "source": [
    "# 将列表中所有的Tensor堆叠成一个Tensor，形状为 [N, C, H, W]\n",
    "img = torch.stack(images_list)"
   ],
   "id": "eabd76558e25a53a"
  },
  {
   "metadata": {},
   "cell_type": "code",
   "outputs": [],
   "execution_count": null,
   "source": [
    "# 定义每个 global_step 下要显示的图片数量\n",
    "img_num = 8  # 这里可以按需要调整"
   ],
   "id": "39b282645540c78d"
  },
  {
   "metadata": {},
   "cell_type": "code",
   "outputs": [],
   "execution_count": null,
   "source": [
    "# 总图片数\n",
    "total_images = img.size(0)"
   ],
   "id": "d8641ac4d283df60"
  },
  {
   "metadata": {},
   "cell_type": "code",
   "outputs": [],
   "execution_count": null,
   "source": [
    "# 按 img_num 数量对图片进行分组，每个分组对应一个 global_step\n",
    "num_steps = math.ceil(total_images / img_num)"
   ],
   "id": "7bfa9da9956c105"
  },
  {
   "metadata": {},
   "cell_type": "code",
   "outputs": [],
   "execution_count": null,
   "source": [
    "for step in range(num_steps):\n",
    "    # 计算当前批次的起始和结束索引\n",
    "    start_idx = step * img_num\n",
    "    end_idx = min((step + 1) * img_num, total_images)\n",
    "\n",
    "    # 从总图片中切出当前批次\n",
    "    subset = img[start_idx:end_idx]\n",
    "\n",
    "    # 生成图片网格, nrow 参数可以根据需要调整，这里简单使用 img_num 或计算一个较为合理的行数\n",
    "    grid = utils.make_grid(subset, nrow=int(math.sqrt(img_num)))\n",
    "\n",
    "    # 将当前图片网格写入 TensorBoard，并以当前 step 作为 global_step\n",
    "    writer.add_image(\"All_Images\", grid, global_step=step)\n",
    "\n",
    "    print(f\"写入 global_step = {step}, 图片索引范围：[{start_idx}, {end_idx})\")"
   ],
   "id": "de557aa99f93fce4"
  },
  {
   "metadata": {},
   "cell_type": "code",
   "outputs": [],
   "execution_count": null,
   "source": "writer.close()",
   "id": "2a50c1a5018a0d33"
  }
 ],
 "metadata": {
  "kernelspec": {
   "display_name": "Python 3",
   "language": "python",
   "name": "python3"
  },
  "language_info": {
   "codemirror_mode": {
    "name": "ipython",
    "version": 2
   },
   "file_extension": ".py",
   "mimetype": "text/x-python",
   "name": "python",
   "nbconvert_exporter": "python",
   "pygments_lexer": "ipython2",
   "version": "2.7.6"
  }
 },
 "nbformat": 4,
 "nbformat_minor": 5
}
