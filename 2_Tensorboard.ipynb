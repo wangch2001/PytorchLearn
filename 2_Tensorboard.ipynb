{
 "cells": [
  {
   "metadata": {},
   "cell_type": "markdown",
   "source": [
    "# Tensorboard使用\n",
    "1. 指定logdir,创建SummaryWriter对象：writer = SummaryWriter(\"./logs/2_Tensorboard\")\n",
    "3. 添加数据\n",
    "2. wirter.add_image()\n",
    "3. writer.add_scalar()\n",
    "4. writer.close()\n",
    "\n",
    "\n",
    "控制台输入：tensorboard --logdir=logs --port=6006(可选)"
   ],
   "id": "728ceffe894873ef"
  },
  {
   "metadata": {
    "ExecuteTime": {
     "end_time": "2025-04-21T05:51:02.616512Z",
     "start_time": "2025-04-21T05:51:02.610086Z"
    }
   },
   "cell_type": "code",
   "source": [
    "from torch.utils.tensorboard import SummaryWriter\n",
    "import os\n",
    "from PIL import Image\n",
    "import torch\n",
    "from torchvision import transforms, utils\n",
    "import math"
   ],
   "id": "8f9abcda5364a552",
   "outputs": [],
   "execution_count": 41
  },
  {
   "metadata": {
    "ExecuteTime": {
     "end_time": "2025-04-21T05:51:02.640844Z",
     "start_time": "2025-04-21T05:51:02.637466Z"
    }
   },
   "cell_type": "code",
   "source": [
    "# 创建SummaryWriter对象，指定日志存储路径\n",
    "writer = SummaryWriter(\"./logs/2_Tensorboard\")"
   ],
   "id": "d623b4f91214c60",
   "outputs": [],
   "execution_count": 42
  },
  {
   "metadata": {
    "ExecuteTime": {
     "end_time": "2025-04-21T05:51:02.646071Z",
     "start_time": "2025-04-21T05:51:02.644371Z"
    }
   },
   "cell_type": "code",
   "source": [
    "# 常用步骤为以下三步\n",
    "# 1. 添加数据\n",
    "# 2. writer.add_image() 或 writer.add_scalar()\n",
    "# 3. 关闭writer\n",
    "# writer.close()"
   ],
   "id": "6efedca7a46b3594",
   "outputs": [],
   "execution_count": 43
  },
  {
   "metadata": {
    "ExecuteTime": {
     "end_time": "2025-04-21T05:51:02.665941Z",
     "start_time": "2025-04-21T05:51:02.657186Z"
    }
   },
   "cell_type": "code",
   "source": [
    "# 如何添加函数图像\n",
    "# writer.add_scalar()  用于绘制矢量图\n",
    "    # def add_scalar(\n",
    "    #     self,\n",
    "    #     tag,                图表title\n",
    "    #     scalar_value,       图标数值 y轴\n",
    "    #     global_step=None,   步数 x轴\n",
    "    #     walltime=None,\n",
    "    #     new_style=False,\n",
    "    #     double_precision=False,\n",
    "    # ):\n",
    "\n",
    "for i in range(100):\n",
    "    # 不同的tag会绘制到不同的表中，不用怕串\n",
    "    # writer.add_scalar(\"y = x\", i, i)\n",
    "    writer.add_scalar(\"y = 2x\", 2 * i, i)"
   ],
   "id": "d1f50ef719453418",
   "outputs": [],
   "execution_count": 44
  },
  {
   "metadata": {
    "ExecuteTime": {
     "end_time": "2025-04-21T05:51:02.678722Z",
     "start_time": "2025-04-21T05:51:02.676780Z"
    }
   },
   "cell_type": "code",
   "source": [
    "# 如何添加图像\n",
    "# writer.add_image() 用于将图像添加到TensorBoard\n",
    "    # def add_image(\n",
    "    #     self,\n",
    "    #     tag,                 图title\n",
    "    #     img_tensor,          图数据，需要：torch.Tensor, numpy.ndarray, or string/blobname 类型\n",
    "    #     global_step=None,\n",
    "    #     walltime=None,\n",
    "    #     dataformats=\"CHW\"。  img_tensor默认尺寸为(3, H, W)，3通道H高度W宽度。如果是其他形状需要使用dataformats变量来进行说明。\n",
    "    # ):"
   ],
   "id": "885bc25271bdd4c6",
   "outputs": [],
   "execution_count": 45
  },
  {
   "metadata": {
    "ExecuteTime": {
     "end_time": "2025-04-21T05:51:02.692237Z",
     "start_time": "2025-04-21T05:51:02.690246Z"
    }
   },
   "cell_type": "code",
   "source": [
    "# 定义图像文件夹路径\n",
    "image_path = \"./data/hymenoptera_data/train/ants\""
   ],
   "id": "26cd6a4690b95c6f",
   "outputs": [],
   "execution_count": 46
  },
  {
   "metadata": {
    "ExecuteTime": {
     "end_time": "2025-04-21T05:51:02.706561Z",
     "start_time": "2025-04-21T05:51:02.703652Z"
    }
   },
   "cell_type": "code",
   "source": [
    "# 定义图像预处理变换：调整为统一大小并转换为Tensor格式\n",
    "# 这一部分详细内容看3_Transforms\n",
    "# transforms.Compose用于将多个变换操作组合在一起\n",
    "transform = transforms.Compose([\n",
    "    transforms.Resize((256, 256)),  # 调整图片大小\n",
    "    transforms.ToTensor()           # 转换为Tensor\n",
    "])"
   ],
   "id": "a15615b763a6c1f3",
   "outputs": [],
   "execution_count": 47
  },
  {
   "metadata": {
    "ExecuteTime": {
     "end_time": "2025-04-21T05:51:02.724944Z",
     "start_time": "2025-04-21T05:51:02.717837Z"
    }
   },
   "cell_type": "code",
   "source": [
    "# 获取 image_path 文件夹下的所有文件名\n",
    "image_files = os.listdir(image_path)\n",
    "# 用于存储所有图片的Tensor\n",
    "images_list = []"
   ],
   "id": "976e6fc9e5c38817",
   "outputs": [],
   "execution_count": 48
  },
  {
   "metadata": {
    "ExecuteTime": {
     "end_time": "2025-04-21T05:51:03.023657Z",
     "start_time": "2025-04-21T05:51:02.734381Z"
    }
   },
   "cell_type": "code",
   "source": [
    "# 遍历所有文件，将图片打开、预处理后保存到列表中\n",
    "for file_name in image_files:\n",
    "    full_path = os.path.join(image_path, file_name)\n",
    "    # 打开图片，并确保转换为RGB模式（确保一致性）\n",
    "    img_pil = Image.open(full_path).convert(\"RGB\")\n",
    "    # 应用预处理变换，将PIL Image转换为Tensor\n",
    "    img_tensor = transform(img_pil)\n",
    "    images_list.append(img_tensor)"
   ],
   "id": "b31e762bcb5837dc",
   "outputs": [],
   "execution_count": 49
  },
  {
   "metadata": {
    "ExecuteTime": {
     "end_time": "2025-04-21T05:51:03.052525Z",
     "start_time": "2025-04-21T05:51:03.037608Z"
    }
   },
   "cell_type": "code",
   "source": [
    "# 将列表中所有的Tensor堆叠成一个Tensor，形状为 [N, C, H, W]\n",
    "img = torch.stack(images_list) # 将图片列表堆叠成一个4D Tensor\n",
    "print(img.shape)"
   ],
   "id": "eabd76558e25a53a",
   "outputs": [
    {
     "name": "stdout",
     "output_type": "stream",
     "text": [
      "torch.Size([124, 3, 256, 256])\n"
     ]
    }
   ],
   "execution_count": 50
  },
  {
   "metadata": {
    "ExecuteTime": {
     "end_time": "2025-04-21T05:51:03.068917Z",
     "start_time": "2025-04-21T05:51:03.066357Z"
    }
   },
   "cell_type": "code",
   "source": [
    "# 定义每个 global_step 下要显示的图片数量\n",
    "img_num = 9  # 这里可以按需要调整，每个global_step显示的图片数量"
   ],
   "id": "39b282645540c78d",
   "outputs": [],
   "execution_count": 51
  },
  {
   "metadata": {
    "ExecuteTime": {
     "end_time": "2025-04-21T05:51:03.084159Z",
     "start_time": "2025-04-21T05:51:03.081972Z"
    }
   },
   "cell_type": "code",
   "source": [
    "# 总图片数\n",
    "total_images = img.size(0) # 获取图片总数"
   ],
   "id": "d8641ac4d283df60",
   "outputs": [],
   "execution_count": 52
  },
  {
   "metadata": {
    "ExecuteTime": {
     "end_time": "2025-04-21T05:51:03.102430Z",
     "start_time": "2025-04-21T05:51:03.099318Z"
    }
   },
   "cell_type": "code",
   "source": [
    "# 按 img_num 数量对图片进行分组，每个分组对应一个 global_step\n",
    "num_steps = math.ceil(total_images / img_num) # 计算需要的global_step数量\n",
    "print(f\"需要的 global_step 数量：{num_steps}\")"
   ],
   "id": "7bfa9da9956c105",
   "outputs": [
    {
     "name": "stdout",
     "output_type": "stream",
     "text": [
      "需要的 global_step 数量：14\n"
     ]
    }
   ],
   "execution_count": 53
  },
  {
   "metadata": {
    "ExecuteTime": {
     "end_time": "2025-04-21T05:51:07.158732Z",
     "start_time": "2025-04-21T05:51:03.116362Z"
    }
   },
   "cell_type": "code",
   "source": [
    "# 遍历每个global_step，将图片写入TensorBoard\n",
    "for step in range(num_steps):\n",
    "    # 计算当前批次的起始和结束索引\n",
    "    start_idx = step * img_num # 当前批次起始索引\n",
    "    end_idx = min((step + 1) * img_num, total_images) # 当前批次结束索引\n",
    "\n",
    "    # 从总图片中切出当前批次\n",
    "    subset = img[start_idx:end_idx] # 获取当前批次的图片\n",
    "\n",
    "    # 生成图片网格, nrow 参数可以根据需要调整，这里简单使用 img_num 或计算一个较为合理的行数\n",
    "    grid = utils.make_grid(subset, nrow=int(math.sqrt(img_num))) # nrow控制每行显示的图片数量\n",
    "\n",
    "    # 将当前图片网格写入 TensorBoard，并以当前 step 作为 global_step\n",
    "    writer.add_image(\"All_Images\", grid, global_step=step)\n",
    "\n",
    "    print(f\"写入 global_step = {step}, 图片索引范围：[{start_idx}, {end_idx})\")"
   ],
   "id": "de557aa99f93fce4",
   "outputs": [
    {
     "name": "stdout",
     "output_type": "stream",
     "text": [
      "写入 global_step = 0, 图片索引范围：[0, 9)\n",
      "写入 global_step = 1, 图片索引范围：[9, 18)\n",
      "写入 global_step = 2, 图片索引范围：[18, 27)\n",
      "写入 global_step = 3, 图片索引范围：[27, 36)\n",
      "写入 global_step = 4, 图片索引范围：[36, 45)\n",
      "写入 global_step = 5, 图片索引范围：[45, 54)\n",
      "写入 global_step = 6, 图片索引范围：[54, 63)\n",
      "写入 global_step = 7, 图片索引范围：[63, 72)\n",
      "写入 global_step = 8, 图片索引范围：[72, 81)\n",
      "写入 global_step = 9, 图片索引范围：[81, 90)\n",
      "写入 global_step = 10, 图片索引范围：[90, 99)\n",
      "写入 global_step = 11, 图片索引范围：[99, 108)\n",
      "写入 global_step = 12, 图片索引范围：[108, 117)\n",
      "写入 global_step = 13, 图片索引范围：[117, 124)\n"
     ]
    }
   ],
   "execution_count": 54
  },
  {
   "metadata": {
    "ExecuteTime": {
     "end_time": "2025-04-21T05:51:07.174434Z",
     "start_time": "2025-04-21T05:51:07.171941Z"
    }
   },
   "cell_type": "code",
   "source": [
    "# 关闭SummaryWriter\n",
    "writer.close()"
   ],
   "id": "2a50c1a5018a0d33",
   "outputs": [],
   "execution_count": 55
  },
  {
   "metadata": {
    "ExecuteTime": {
     "end_time": "2025-04-21T05:51:07.187150Z",
     "start_time": "2025-04-21T05:51:07.185382Z"
    }
   },
   "cell_type": "code",
   "source": "",
   "id": "2e92a14517fe30e9",
   "outputs": [],
   "execution_count": null
  }
 ],
 "metadata": {
  "kernelspec": {
   "display_name": "Python 3",
   "language": "python",
   "name": "python3"
  },
  "language_info": {
   "codemirror_mode": {
    "name": "ipython",
    "version": 2
   },
   "file_extension": ".py",
   "mimetype": "text/x-python",
   "name": "python",
   "nbconvert_exporter": "python",
   "pygments_lexer": "ipython2",
   "version": "2.7.6"
  }
 },
 "nbformat": 4,
 "nbformat_minor": 5
}
