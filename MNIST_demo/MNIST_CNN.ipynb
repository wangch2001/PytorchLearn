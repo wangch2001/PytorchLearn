{
 "cells": [
  {
   "metadata": {},
   "cell_type": "markdown",
   "source": "# 使用CNN实现手写数字集识别",
   "id": "64c0aa37bd61fa8b"
  },
  {
   "cell_type": "code",
   "id": "initial_id",
   "metadata": {
    "collapsed": true,
    "ExecuteTime": {
     "end_time": "2025-04-24T08:37:02.991212Z",
     "start_time": "2025-04-24T08:37:02.987437Z"
    }
   },
   "source": [
    "import torch\n",
    "import torchvision\n",
    "from torch import nn\n",
    "from torch.utils.tensorboard import SummaryWriter\n",
    "from collections import OrderedDict\n",
    "import matplotlib.pyplot as plt"
   ],
   "outputs": [],
   "execution_count": 11
  },
  {
   "metadata": {
    "ExecuteTime": {
     "end_time": "2025-04-24T08:37:03.403597Z",
     "start_time": "2025-04-24T08:37:03.399606Z"
    }
   },
   "cell_type": "code",
   "source": [
    "# 参数设置\n",
    "# 设置随机种子，以确保结果的可重复性\n",
    "torch.manual_seed(0)\n",
    "# 定义训练的设备\n",
    "device = torch.device(\"cuda\" if torch.cuda.is_available() else \"cpu\")\n",
    "# 设置batch_size\n",
    "batch_size = 64\n",
    "# 设置学习率\n",
    "learning_rate = 0.001\n",
    "# 设置动量\n",
    "momentum = 0.5\n",
    "# 设置训练的轮数\n",
    "EPOCH = 10"
   ],
   "id": "c2865decebe59e7a",
   "outputs": [],
   "execution_count": 12
  },
  {
   "metadata": {
    "ExecuteTime": {
     "end_time": "2025-04-24T08:37:03.955248Z",
     "start_time": "2025-04-24T08:37:03.920207Z"
    }
   },
   "cell_type": "code",
   "source": [
    "# 定义数据预处理\n",
    "transform = torchvision.transforms.Compose([torchvision.transforms.ToTensor(), # 将图像转化为张量\n",
    "                               torchvision.transforms.Normalize(0.1307, 0.3081)]) # 标准化图像\n",
    "\n",
    "# 加载MNIST数据集\n",
    "train_dataset = torchvision.datasets.MNIST(root='./data/mnist', train=True, transform=transform, download=True)\n",
    "val_dataset = torchvision.datasets.MNIST(root='./data/mnist', train=False, transform=transform, download=True)\n",
    "\n",
    "# 查看数据集大小\n",
    "train_dataset_size = len(train_dataset)\n",
    "val_dataset_size = len(val_dataset)\n",
    "print(\"训练数据集长度为：{}\".format(train_dataset_size))\n",
    "print(\"测试数据集长度为：{}\".format(val_dataset_size))\n",
    "\n",
    "# 创建数据加载器\n",
    "train_loader = torch.utils.data.DataLoader(train_dataset, batch_size, shuffle=True)\n",
    "val_loader = torch.utils.data.DataLoader(val_dataset, batch_size, shuffle=False)"
   ],
   "id": "14a1ac6257e509a6",
   "outputs": [
    {
     "name": "stdout",
     "output_type": "stream",
     "text": [
      "训练数据集长度为：60000\n",
      "测试数据集长度为：10000\n"
     ]
    }
   ],
   "execution_count": 13
  },
  {
   "metadata": {
    "ExecuteTime": {
     "end_time": "2025-04-24T08:37:06.714264Z",
     "start_time": "2025-04-24T08:37:06.442988Z"
    }
   },
   "cell_type": "code",
   "source": [
    "# 展示数据集中部分图片\n",
    "fig = plt.figure()\n",
    "for i in range(12):\n",
    "    plt.subplot(3, 4, i + 1)\n",
    "    plt.tight_layout()\n",
    "    plt.imshow(train_dataset.train_data[i], cmap='gray', interpolation='none')\n",
    "    plt.title(\"Labels: {}\".format(train_dataset.train_labels[i]))\n",
    "    plt.xticks([])\n",
    "    plt.yticks([])\n",
    "plt.show()"
   ],
   "id": "d86ac01a487e7714",
   "outputs": [
    {
     "data": {
      "text/plain": [
       "<Figure size 640x480 with 12 Axes>"
      ],
      "image/png": "[encoded data removed]"
     },
     "metadata": {},
     "output_type": "display_data"
    }
   ],
   "execution_count": 14
  },
  {
   "metadata": {},
   "cell_type": "markdown",
   "source": [
    "卷积神经网络模型\n",
    "![](../images/MNIST_cnn_net.png)"
   ],
   "id": "41960d2234e0a9b3"
  },
  {
   "metadata": {
    "ExecuteTime": {
     "end_time": "2025-04-24T08:37:09.220683Z",
     "start_time": "2025-04-24T08:37:09.216586Z"
    }
   },
   "cell_type": "code",
   "source": [
    "# 定义卷积神经网络模型\n",
    "class Net(nn.Module):\n",
    "    def __init__(self):\n",
    "        super(Net, self).__init__()\n",
    "        self.model = nn.Sequential(OrderedDict([\n",
    "            ('conv1', nn.Conv2d(1, 10, kernel_size=5)),\n",
    "            ('relu1', nn.ReLU()),\n",
    "            ('pool1', nn.MaxPool2d(kernel_size=2, stride=2)),\n",
    "            ('conv2', nn.Conv2d(10, 20, kernel_size=5)),\n",
    "            ('relu2', nn.ReLU()),\n",
    "            ('pool2', nn.MaxPool2d(kernel_size=2, stride=2)),\n",
    "            ('flatten', nn.Flatten()),\n",
    "            ('fc1', nn.Linear(320, 50)),  # 320 = 20 * 4 * 4\n",
    "            ('fc2', nn.Linear(50, 10))\n",
    "        ]))\n",
    "\n",
    "\n",
    "    def forward(self, x):\n",
    "        x = self.model(x)\n",
    "        return x"
   ],
   "id": "be5375158e7bdbc3",
   "outputs": [],
   "execution_count": 15
  },
  {
   "metadata": {
    "ExecuteTime": {
     "end_time": "2025-04-24T08:37:11.081857Z",
     "start_time": "2025-04-24T08:37:11.075116Z"
    }
   },
   "cell_type": "code",
   "source": [
    "# 实例化模型\n",
    "model = Net()\n",
    "model = model.to(device)\n",
    "\n",
    "criterion = nn.CrossEntropyLoss() # 交叉熵损失函数\n",
    "criterion = criterion.to(device)\n",
    "optimizer = torch.optim.SGD(model.parameters(), lr=learning_rate, momentum=momentum) # 随机梯度下降优化器\n",
    "\n",
    "writer = SummaryWriter(\"./logs/MNIST_cnn\") # TensorBoard可视化"
   ],
   "id": "cb637dc35ae1a47a",
   "outputs": [],
   "execution_count": 16
  },
  {
   "metadata": {
    "ExecuteTime": {
     "end_time": "2025-04-24T08:39:20.276618Z",
     "start_time": "2025-04-24T08:37:50.855115Z"
    }
   },
   "cell_type": "code",
   "source": [
    "total_train_step = 0\n",
    "total_test_step = 0\n",
    "acc_val = []\n",
    "\n",
    "# 训练模型\n",
    "for epoch in range(EPOCH):\n",
    "    print(\"--------------------第{}轮训练开始--------------------\".format(epoch + 1))\n",
    "    model.train()\n",
    "\n",
    "    for data in train_loader:\n",
    "        imgs, labels = data\n",
    "        imgs, labels = imgs.to(device), labels.to(device)\n",
    "        outputs = model(imgs)\n",
    "        loss = criterion(outputs, labels)\n",
    "        optimizer.zero_grad()\n",
    "        loss.backward()\n",
    "        optimizer.step()\n",
    "\n",
    "        total_train_step += 1\n",
    "        if total_train_step % 100 == 0:\n",
    "            print (\"训练次数：{}，Loss：{}\".format(total_train_step, loss.item()))\n",
    "            writer.add_scalar(\"train_loss\", loss.item(), total_train_step)\n",
    "\n",
    "    model.eval()\n",
    "    total_test_loss = 0\n",
    "    total_correct = 0\n",
    "    with torch.no_grad():\n",
    "        for data in val_loader:\n",
    "            imgs, labels = data\n",
    "            imgs, labels = imgs.to(device), labels.to(device)\n",
    "            outputs = model(imgs)\n",
    "            loss = criterion(outputs, labels)\n",
    "            total_test_loss += loss.item()\n",
    "            total_correct += (outputs.argmax(1) == labels).sum().item()\n",
    "        print(\"测试集上Loss：{}\".format(total_test_loss))\n",
    "        writer.add_scalar(\"test_loss\", total_test_loss, total_test_step)\n",
    "        print(\"测试集上正确率：{}%\".format(total_correct / val_dataset_size * 100))\n",
    "        writer.add_scalar(\"test_acc\", total_correct / val_dataset_size * 100, epoch)\n",
    "        acc_val.append(total_correct / val_dataset_size * 100)\n",
    "        total_test_step += 1\n",
    "\n",
    "    torch.save(model.state_dict(), \"./models/MNIST_cnn_epoch_{}.pth\".format(epoch + 1))\n",
    "    print(\"模型已保存！\")\n",
    "\n",
    "    plt.plot(acc_val)\n",
    "    plt.show()"
   ],
   "id": "cd50eeed382eb345",
   "outputs": [
    {
     "name": "stdout",
     "output_type": "stream",
     "text": [
      "--------------------第1轮训练开始--------------------\n",
      "训练次数：100，Loss：0.2144635170698166\n",
      "训练次数：200，Loss：0.05941637605428696\n",
      "训练次数：300，Loss：0.14494112133979797\n",
      "训练次数：400，Loss：0.08950438350439072\n",
      "训练次数：500，Loss：0.23410190641880035\n",
      "训练次数：600，Loss：0.10029402375221252\n",
      "训练次数：700，Loss：0.06358450651168823\n",
      "训练次数：800，Loss：0.03938022628426552\n",
      "训练次数：900，Loss：0.08312353491783142\n",
      "测试集上Loss：11.707932629971765\n",
      "测试集上正确率：97.81%\n",
      "模型已保存！\n",
      "--------------------第2轮训练开始--------------------\n",
      "训练次数：1000，Loss：0.008352168835699558\n",
      "训练次数：1100，Loss：0.05719473958015442\n",
      "训练次数：1200，Loss：0.01944536715745926\n",
      "训练次数：1300，Loss：0.026192251592874527\n",
      "训练次数：1400，Loss：0.09809034317731857\n",
      "训练次数：1500，Loss：0.0535573810338974\n",
      "训练次数：1600，Loss：0.11682883650064468\n",
      "训练次数：1700，Loss：0.04717807099223137\n",
      "训练次数：1800，Loss：0.24579204618930817\n",
      "测试集上Loss：9.048812259745318\n",
      "测试集上正确率：98.19%\n",
      "模型已保存！\n",
      "--------------------第3轮训练开始--------------------\n",
      "训练次数：1900，Loss：0.13294856250286102\n",
      "训练次数：2000，Loss：0.08423185348510742\n",
      "训练次数：2100，Loss：0.11691881716251373\n",
      "训练次数：2200，Loss：0.05709278956055641\n",
      "训练次数：2300，Loss：0.033316127955913544\n",
      "训练次数：2400，Loss：0.022059500217437744\n",
      "训练次数：2500，Loss：0.017067190259695053\n",
      "训练次数：2600，Loss：0.037024371325969696\n",
      "训练次数：2700，Loss：0.025373591110110283\n",
      "训练次数：2800，Loss：0.05320620909333229\n",
      "测试集上Loss：8.030248536524596\n",
      "测试集上正确率：98.31%\n",
      "模型已保存！\n",
      "--------------------第4轮训练开始--------------------\n",
      "训练次数：2900，Loss：0.030264530330896378\n",
      "训练次数：3000，Loss：0.02105090580880642\n",
      "训练次数：3100，Loss：0.01953156478703022\n",
      "训练次数：3200，Loss：0.015688979998230934\n",
      "训练次数：3300，Loss：0.012810977175831795\n",
      "训练次数：3400，Loss：0.1848343461751938\n",
      "训练次数：3500，Loss：0.10227205604314804\n",
      "训练次数：3600，Loss：0.020440036430954933\n",
      "训练次数：3700，Loss：0.04749605804681778\n",
      "测试集上Loss：7.62334919058776\n",
      "测试集上正确率：98.42%\n",
      "模型已保存！\n",
      "--------------------第5轮训练开始--------------------\n",
      "训练次数：3800，Loss：0.20189858973026276\n",
      "训练次数：3900，Loss：0.022806748747825623\n",
      "训练次数：4000，Loss：0.018427517265081406\n",
      "训练次数：4100，Loss：0.07130491733551025\n",
      "训练次数：4200，Loss：0.02512371726334095\n",
      "训练次数：4300，Loss：0.02069203555583954\n",
      "训练次数：4400，Loss：0.07166177779436111\n",
      "训练次数：4500，Loss：0.021275648847222328\n",
      "训练次数：4600，Loss：0.006741712335497141\n",
      "测试集上Loss：7.652495855771122\n",
      "测试集上正确率：98.46000000000001%\n",
      "模型已保存！\n",
      "--------------------第6轮训练开始--------------------\n",
      "训练次数：4700，Loss：0.029920360073447227\n",
      "训练次数：4800，Loss：0.01749706268310547\n",
      "训练次数：4900，Loss：0.022785678505897522\n",
      "训练次数：5000，Loss：0.016219090670347214\n",
      "训练次数：5100，Loss：0.010875546373426914\n",
      "训练次数：5200，Loss：0.03658531978726387\n",
      "训练次数：5300，Loss：0.07601213455200195\n",
      "训练次数：5400，Loss：0.015951544046401978\n",
      "训练次数：5500，Loss：0.040177829563617706\n",
      "训练次数：5600，Loss：0.0037118459586054087\n",
      "测试集上Loss：6.789111597739975\n",
      "测试集上正确率：98.53%\n",
      "模型已保存！\n",
      "--------------------第7轮训练开始--------------------\n",
      "训练次数：5700，Loss：0.004912457428872585\n",
      "训练次数：5800，Loss：0.006549585610628128\n",
      "训练次数：5900，Loss：0.009029572829604149\n",
      "训练次数：6000，Loss：0.14405564963817596\n",
      "训练次数：6100，Loss：0.015407731756567955\n",
      "训练次数：6200，Loss：0.10536080598831177\n",
      "训练次数：6300，Loss：0.07998604327440262\n",
      "训练次数：6400，Loss：0.009817829355597496\n",
      "训练次数：6500，Loss：0.008238263428211212\n",
      "测试集上Loss：6.199429935251828\n",
      "测试集上正确率：98.61999999999999%\n",
      "模型已保存！\n",
      "--------------------第8轮训练开始--------------------\n",
      "训练次数：6600，Loss：0.03357408568263054\n",
      "训练次数：6700，Loss：0.013584228232502937\n",
      "训练次数：6800，Loss：0.019296962767839432\n",
      "训练次数：6900，Loss：0.013112571090459824\n",
      "训练次数：7000，Loss：0.020230945199728012\n",
      "训练次数：7100，Loss：0.2332104593515396\n",
      "训练次数：7200，Loss：0.1448332667350769\n",
      "训练次数：7300，Loss：0.05562768876552582\n",
      "训练次数：7400，Loss：0.0575401708483696\n",
      "训练次数：7500，Loss：0.0556962750852108\n",
      "测试集上Loss：6.274876764633518\n",
      "测试集上正确率：98.72999999999999%\n",
      "模型已保存！\n",
      "--------------------第9轮训练开始--------------------\n",
      "训练次数：7600，Loss：0.019712358713150024\n",
      "训练次数：7700，Loss：0.042706552892923355\n",
      "训练次数：7800，Loss：0.029926355928182602\n",
      "训练次数：7900，Loss：0.012557691894471645\n",
      "训练次数：8000，Loss：0.10815254598855972\n",
      "训练次数：8100，Loss：0.05199228227138519\n",
      "训练次数：8200，Loss：0.06834268569946289\n",
      "训练次数：8300，Loss：0.0029000532813370228\n",
      "训练次数：8400，Loss：0.005780499428510666\n",
      "测试集上Loss：6.349416123579431\n",
      "测试集上正确率：98.72%\n",
      "模型已保存！\n",
      "--------------------第10轮训练开始--------------------\n",
      "训练次数：8500，Loss：0.12802740931510925\n",
      "训练次数：8600，Loss：0.029898038133978844\n",
      "训练次数：8700，Loss：0.01546018198132515\n",
      "训练次数：8800，Loss：0.01944756507873535\n",
      "训练次数：8900，Loss：0.008290397003293037\n",
      "训练次数：9000，Loss：0.033378589898347855\n",
      "训练次数：9100，Loss：0.04076174274086952\n",
      "训练次数：9200，Loss：0.011040027253329754\n",
      "训练次数：9300，Loss：0.01841495931148529\n",
      "测试集上Loss：6.6097091308183735\n",
      "测试集上正确率：98.61%\n",
      "模型已保存！\n"
     ]
    }
   ],
   "execution_count": 18
  },
  {
   "metadata": {},
   "cell_type": "code",
   "outputs": [],
   "execution_count": null,
   "source": "writer.close()",
   "id": "aea1e6e932d2d88c"
  },
  {
   "metadata": {},
   "cell_type": "code",
   "outputs": [],
   "execution_count": null,
   "source": "",
   "id": "c0f8563e1335a762"
  }
 ],
 "metadata": {
  "kernelspec": {
   "display_name": "Python 3",
   "language": "python",
   "name": "python3"
  },
  "language_info": {
   "codemirror_mode": {
    "name": "ipython",
    "version": 2
   },
   "file_extension": ".py",
   "mimetype": "text/x-python",
   "name": "python",
   "nbconvert_exporter": "python",
   "pygments_lexer": "ipython2",
   "version": "2.7.6"
  }
 },
 "nbformat": 4,
 "nbformat_minor": 5
}
