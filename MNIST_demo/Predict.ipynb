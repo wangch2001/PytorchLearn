{
 "cells": [
  {
   "cell_type": "code",
   "id": "initial_id",
   "metadata": {
    "collapsed": true,
    "ExecuteTime": {
     "end_time": "2025-04-25T12:51:41.246075Z",
     "start_time": "2025-04-25T12:51:41.243048Z"
    }
   },
   "source": [
    "import torch\n",
    "import torchvision\n",
    "from torchvision import transforms\n",
    "from PIL import Image\n",
    "from torch import nn\n",
    "from collections import OrderedDict"
   ],
   "outputs": [],
   "execution_count": 6
  },
  {
   "metadata": {
    "ExecuteTime": {
     "end_time": "2025-04-25T12:51:42.043032Z",
     "start_time": "2025-04-25T12:51:42.035929Z"
    }
   },
   "cell_type": "code",
   "source": [
    "image_path = '../images/six.png'\n",
    "img = Image.open(image_path)\n",
    "img = img.convert('L')  # 转换为灰度图像\n",
    "\n",
    "transform = transforms.Compose([transforms.Resize((28, 28)),\n",
    "                                transforms.ToTensor()])\n",
    "\n",
    "image = transform(img)\n",
    "image = torch.reshape(image, (1, 1, 28, 28))\n",
    "print(image.shape)"
   ],
   "id": "a79c08e9618cd75e",
   "outputs": [
    {
     "name": "stdout",
     "output_type": "stream",
     "text": [
      "torch.Size([1, 1, 28, 28])\n"
     ]
    }
   ],
   "execution_count": 7
  },
  {
   "metadata": {
    "ExecuteTime": {
     "end_time": "2025-04-25T12:51:42.524755Z",
     "start_time": "2025-04-25T12:51:42.520630Z"
    }
   },
   "cell_type": "code",
   "source": [
    "# 定义卷积神经网络模型\n",
    "class Net(nn.Module):\n",
    "    def __init__(self):\n",
    "        super(Net, self).__init__()\n",
    "        self.model = nn.Sequential(OrderedDict([\n",
    "            ('conv1', nn.Conv2d(1, 10, kernel_size=5)),\n",
    "            ('relu1', nn.ReLU()),\n",
    "            ('pool1', nn.MaxPool2d(kernel_size=2, stride=2)),\n",
    "            ('conv2', nn.Conv2d(10, 20, kernel_size=5)),\n",
    "            ('relu2', nn.ReLU()),\n",
    "            ('pool2', nn.MaxPool2d(kernel_size=2, stride=2)),\n",
    "            ('flatten', nn.Flatten()),\n",
    "            ('fc1', nn.Linear(320, 50)),  # 320 = 20 * 4 * 4\n",
    "            ('fc2', nn.Linear(50, 10))\n",
    "        ]))\n",
    "\n",
    "\n",
    "    def forward(self, x):\n",
    "        x = self.model(x)\n",
    "        return x"
   ],
   "id": "a3b5296c952e19e2",
   "outputs": [],
   "execution_count": 8
  },
  {
   "metadata": {
    "ExecuteTime": {
     "end_time": "2025-04-25T12:51:44.251428Z",
     "start_time": "2025-04-25T12:51:44.239369Z"
    }
   },
   "cell_type": "code",
   "source": [
    "model = Net()\n",
    "# 加载模型参数\n",
    "# 如果模型参数是在 GPU 上训练来的，需要在使用时指定使用设备\n",
    "model_weight = torch.load(\"./models/MNIST_cnn_epoch_10.pth\", map_location=torch.device('cpu'))\n",
    "model.load_state_dict(model_weight)\n",
    "print(model)"
   ],
   "id": "d42a1461c08f2ce3",
   "outputs": [
    {
     "name": "stdout",
     "output_type": "stream",
     "text": [
      "Net(\n",
      "  (model): Sequential(\n",
      "    (conv1): Conv2d(1, 10, kernel_size=(5, 5), stride=(1, 1))\n",
      "    (relu1): ReLU()\n",
      "    (pool1): MaxPool2d(kernel_size=2, stride=2, padding=0, dilation=1, ceil_mode=False)\n",
      "    (conv2): Conv2d(10, 20, kernel_size=(5, 5), stride=(1, 1))\n",
      "    (relu2): ReLU()\n",
      "    (pool2): MaxPool2d(kernel_size=2, stride=2, padding=0, dilation=1, ceil_mode=False)\n",
      "    (flatten): Flatten(start_dim=1, end_dim=-1)\n",
      "    (fc1): Linear(in_features=320, out_features=50, bias=True)\n",
      "    (fc2): Linear(in_features=50, out_features=10, bias=True)\n",
      "  )\n",
      ")\n"
     ]
    }
   ],
   "execution_count": 9
  },
  {
   "metadata": {
    "ExecuteTime": {
     "end_time": "2025-04-25T12:56:46.066926Z",
     "start_time": "2025-04-25T12:56:46.061967Z"
    }
   },
   "cell_type": "code",
   "source": [
    "model.eval()\n",
    "with torch.no_grad():\n",
    "    output = model(image)\n",
    "print(torch.argmax(output).item())"
   ],
   "id": "f88af8c95f065b6",
   "outputs": [
    {
     "name": "stdout",
     "output_type": "stream",
     "text": [
      "6\n"
     ]
    }
   ],
   "execution_count": 11
  },
  {
   "metadata": {},
   "cell_type": "code",
   "outputs": [],
   "execution_count": null,
   "source": "",
   "id": "84331d89a1cd3109"
  }
 ],
 "metadata": {
  "kernelspec": {
   "display_name": "Python 3",
   "language": "python",
   "name": "python3"
  },
  "language_info": {
   "codemirror_mode": {
    "name": "ipython",
    "version": 2
   },
   "file_extension": ".py",
   "mimetype": "text/x-python",
   "name": "python",
   "nbconvert_exporter": "python",
   "pygments_lexer": "ipython2",
   "version": "2.7.6"
  }
 },
 "nbformat": 4,
 "nbformat_minor": 5
}
